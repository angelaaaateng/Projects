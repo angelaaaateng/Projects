{
 "cells": [
  {
   "cell_type": "markdown",
   "metadata": {
    "kernel": "SoS"
   },
   "source": [
    "A SoS Jupyter notebook accepts the following types of cells:\n",
    "\n",
    "* **Markdown** cells that can be rendered to have title, table etc\n",
    "* **Subkernel** cells with statements in other languages with optional SoS magics at the beginning of the cells\n",
    "* **SoS** cells with SoS statements without any section header\n",
    "* **Workflow** cells with SoS statements and section header. These cells can only be executed by magic `%run`, `%sosrun`, or command `sos run` from command line"
   ]
  },
  {
   "cell_type": "code",
   "execution_count": 1,
   "metadata": {
    "kernel": "R"
   },
   "outputs": [
    {
     "name": "stderr",
     "output_type": "stream",
     "text": [
      "Failed to switch to language R: No subkernel named R is found. Please make sure that you have the kernel installed (listed in the output of \"jupyter kernelspec list\" and usable in jupyter by itself), install appropriate language module (e.g. \"pip install sos-r\"), restart jupyter notebook and try again.\n"
     ]
    }
   ],
   "source": [
    "%preview -n rn[1:3]\n",
    "rn <- rnorm(5000)"
   ]
  },
  {
   "cell_type": "code",
   "execution_count": 2,
   "metadata": {
    "kernel": "SoS"
   },
   "outputs": [
    {
     "data": {
      "text/plain": [
       "0.012104626083526911"
      ]
     },
     "execution_count": 2,
     "metadata": {},
     "output_type": "execute_result"
    }
   ],
   "source": [
    "%get rn --from R\n",
    "sum(rn)/len(rn)"
   ]
  },
  {
   "cell_type": "code",
   "execution_count": 3,
   "metadata": {
    "collapsed": true,
    "kernel": "SoS"
   },
   "outputs": [],
   "source": [
    "[test_1]\n",
    "python: expand=True\n",
    "    print(\"Hello, I am {step_name} in Python\")"
   ]
  },
  {
   "cell_type": "code",
   "execution_count": 2,
   "metadata": {
    "kernel": "SoS"
   },
   "outputs": [
    {
     "name": "stdout",
     "output_type": "stream",
     "text": [
      "Hello, I am test_1 in Python\n",
      "Generating myfigure.pdf\n"
     ]
    }
   ],
   "source": [
    "%sosrun test\n",
    "[test_2]\n",
    "R: expand=True\n",
    "    cat(paste(\"Hello,\", \"I am\", {step_name!r}, \"in R\"))"
   ]
  }
 ],
 "metadata": {
  "anaconda-cloud": {},
  "kernelspec": {
   "display_name": "SoS",
   "language": "sos",
   "name": "sos"
  },
  "language_info": {
   "codemirror_mode": "sos",
   "file_extension": ".sos",
   "mimetype": "text/x-sos",
   "name": "sos",
   "nbconvert_exporter": "sos_notebook.converter.SoS_Exporter",
   "pygments_lexer": "sos"
  },
  "sos": {
   "default_kernel": "SoS",
   "kernels": [
    [
     "R",
     "ir",
     "R",
     "#FDEDEC",
     ""
    ],
    [
     "SoS",
     "sos",
     "",
     "",
     ""
    ]
   ],
   "panel": {
    "displayed": true,
    "height": 0,
    "style": "side"
   },
   "version": "0.19.8"
  }
 },
 "nbformat": 4,
 "nbformat_minor": 2
}

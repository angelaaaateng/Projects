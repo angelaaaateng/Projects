{
 "cells": [
  {
   "cell_type": "markdown",
   "metadata": {},
   "source": [
    "## Recommender System - Marketplace Matching\n",
    "\n",
    "In this notebook, we will: \n",
    "- Clean textual data from user-input verbatim posts\n",
    "- Use a Word2Vec model to calculate document similarities \n",
    "- Sort the most similar user input to our training data in order to recommend similar products \n",
    "- Save this model in a format that allows us to refresh the testing data"
   ]
  },
  {
   "cell_type": "markdown",
   "metadata": {},
   "source": [
    "### Data Collection and Preprocessing"
   ]
  },
  {
   "cell_type": "code",
   "execution_count": 1,
   "metadata": {},
   "outputs": [
    {
     "name": "stderr",
     "output_type": "stream",
     "text": [
      "[nltk_data] Downloading package stopwords to\n",
      "[nltk_data]     /Users/angelateng/nltk_data...\n",
      "[nltk_data]   Package stopwords is already up-to-date!\n"
     ]
    }
   ],
   "source": [
    "#Importing Libraries\n",
    "import numpy as np\n",
    "import pandas as pd\n",
    "\n",
    "import sys\n",
    "from pandas import DataFrame\n",
    "\n",
    "import json\n",
    "from pandas.io.json import json_normalize\n",
    "import csv\n",
    "\n",
    "import matplotlib.pyplot as plt\n",
    "%matplotlib inline \n",
    "from matplotlib import colors\n",
    "from matplotlib.ticker import PercentFormatter\n",
    "\n",
    "from gensim import corpora\n",
    "from collections import defaultdict\n",
    "from pprint import pprint\n",
    "\n",
    "from gensim.models.word2vec import Word2Vec\n",
    "from gensim.test.utils import common_texts, get_tmpfile\n",
    "\n",
    "from gensim.models.doc2vec import Doc2Vec, TaggedDocument\n",
    "from gensim.test.utils import common_texts\n",
    "\n",
    "import re\n",
    "from sklearn.feature_extraction.text import CountVectorizer\n",
    "\n",
    "import nltk\n",
    "from nltk.corpus import stopwords\n",
    "from nltk.tokenize import word_tokenize \n",
    "nltk.download('stopwords') ###\n",
    "\n",
    "import gensim \n",
    "from gensim.models import KeyedVectors\n",
    "import gensim.downloader as api\n",
    "\n",
    "from operator import itemgetter, attrgetter\n",
    "\n",
    "from gensim.models.doc2vec import Doc2Vec\n",
    "\n",
    "import os, sys\n",
    "\n",
    "from operator import add\n",
    "\n",
    "from sklearn.preprocessing import normalize\n",
    "\n",
    "import seaborn as sns\n",
    "\n",
    "from sklearn.preprocessing import StandardScaler\n",
    "from sklearn.decomposition import PCA"
   ]
  },
  {
   "cell_type": "code",
   "execution_count": 2,
   "metadata": {},
   "outputs": [
    {
     "data": {
      "text/html": [
       "<div>\n",
       "<style scoped>\n",
       "    .dataframe tbody tr th:only-of-type {\n",
       "        vertical-align: middle;\n",
       "    }\n",
       "\n",
       "    .dataframe tbody tr th {\n",
       "        vertical-align: top;\n",
       "    }\n",
       "\n",
       "    .dataframe thead th {\n",
       "        text-align: right;\n",
       "    }\n",
       "</style>\n",
       "<table border=\"1\" class=\"dataframe\">\n",
       "  <thead>\n",
       "    <tr style=\"text-align: right;\">\n",
       "      <th></th>\n",
       "      <th>archivedStatus</th>\n",
       "      <th>address__components__city</th>\n",
       "      <th>address__components__country</th>\n",
       "      <th>address__components__county</th>\n",
       "      <th>address__components__number</th>\n",
       "      <th>address__components__premise</th>\n",
       "      <th>address__components__state</th>\n",
       "      <th>address__components__street</th>\n",
       "      <th>address__components__zip_code</th>\n",
       "      <th>address__formatted</th>\n",
       "      <th>...</th>\n",
       "      <th>photos__001</th>\n",
       "      <th>photos__002</th>\n",
       "      <th>photos__003</th>\n",
       "      <th>photos__004</th>\n",
       "      <th>post_type</th>\n",
       "      <th>price</th>\n",
       "      <th>price_type</th>\n",
       "      <th>status</th>\n",
       "      <th>title</th>\n",
       "      <th>visibility</th>\n",
       "    </tr>\n",
       "  </thead>\n",
       "  <tbody>\n",
       "    <tr>\n",
       "      <th>0</th>\n",
       "      <td>NaN</td>\n",
       "      <td>Providence</td>\n",
       "      <td>US</td>\n",
       "      <td>Providence County</td>\n",
       "      <td>158</td>\n",
       "      <td>NaN</td>\n",
       "      <td>RI</td>\n",
       "      <td>University Ave</td>\n",
       "      <td>2906.0</td>\n",
       "      <td>158 University Ave, Providence, RI 02906, USA</td>\n",
       "      <td>...</td>\n",
       "      <td>NaN</td>\n",
       "      <td>NaN</td>\n",
       "      <td>NaN</td>\n",
       "      <td>NaN</td>\n",
       "      <td>request</td>\n",
       "      <td>25.0</td>\n",
       "      <td>flexible</td>\n",
       "      <td>legacy</td>\n",
       "      <td>Teach Me How To Cook!</td>\n",
       "      <td>public</td>\n",
       "    </tr>\n",
       "    <tr>\n",
       "      <th>1</th>\n",
       "      <td>NaN</td>\n",
       "      <td>Providence</td>\n",
       "      <td>US</td>\n",
       "      <td>Providence County</td>\n",
       "      <td>157</td>\n",
       "      <td>NaN</td>\n",
       "      <td>RI</td>\n",
       "      <td>University Ave</td>\n",
       "      <td>2906.0</td>\n",
       "      <td>157 University Ave, Providence, RI 02906, USA</td>\n",
       "      <td>...</td>\n",
       "      <td>NaN</td>\n",
       "      <td>NaN</td>\n",
       "      <td>NaN</td>\n",
       "      <td>NaN</td>\n",
       "      <td>offering</td>\n",
       "      <td>15.0</td>\n",
       "      <td>flexible</td>\n",
       "      <td>legacy</td>\n",
       "      <td>Long Boarding Lessons</td>\n",
       "      <td>public</td>\n",
       "    </tr>\n",
       "    <tr>\n",
       "      <th>2</th>\n",
       "      <td>NaN</td>\n",
       "      <td>Providence</td>\n",
       "      <td>US</td>\n",
       "      <td>Providence County</td>\n",
       "      <td>233</td>\n",
       "      <td>NaN</td>\n",
       "      <td>RI</td>\n",
       "      <td>Hope St</td>\n",
       "      <td>2906.0</td>\n",
       "      <td>233 Hope St, Providence, RI 02906, USA</td>\n",
       "      <td>...</td>\n",
       "      <td>NaN</td>\n",
       "      <td>NaN</td>\n",
       "      <td>NaN</td>\n",
       "      <td>NaN</td>\n",
       "      <td>request</td>\n",
       "      <td>15.0</td>\n",
       "      <td>flexible</td>\n",
       "      <td>legacy</td>\n",
       "      <td>Personal Trainer</td>\n",
       "      <td>public</td>\n",
       "    </tr>\n",
       "    <tr>\n",
       "      <th>3</th>\n",
       "      <td>NaN</td>\n",
       "      <td>Providence</td>\n",
       "      <td>US</td>\n",
       "      <td>Providence County</td>\n",
       "      <td>152</td>\n",
       "      <td>NaN</td>\n",
       "      <td>RI</td>\n",
       "      <td>University Ave</td>\n",
       "      <td>2906.0</td>\n",
       "      <td>152 University Ave, Providence, RI 02906, USA</td>\n",
       "      <td>...</td>\n",
       "      <td>NaN</td>\n",
       "      <td>NaN</td>\n",
       "      <td>NaN</td>\n",
       "      <td>NaN</td>\n",
       "      <td>offering</td>\n",
       "      <td>15.0</td>\n",
       "      <td>flexible</td>\n",
       "      <td>legacy</td>\n",
       "      <td>Final Cut Pro Lesson</td>\n",
       "      <td>public</td>\n",
       "    </tr>\n",
       "    <tr>\n",
       "      <th>4</th>\n",
       "      <td>NaN</td>\n",
       "      <td>Providence</td>\n",
       "      <td>US</td>\n",
       "      <td>Providence County</td>\n",
       "      <td>184</td>\n",
       "      <td>Prince Engineering Laboratory</td>\n",
       "      <td>RI</td>\n",
       "      <td>Hope St</td>\n",
       "      <td>2912.0</td>\n",
       "      <td>Prince Engineering Laboratory, 184 Hope St, Pr...</td>\n",
       "      <td>...</td>\n",
       "      <td>NaN</td>\n",
       "      <td>NaN</td>\n",
       "      <td>NaN</td>\n",
       "      <td>NaN</td>\n",
       "      <td>offering</td>\n",
       "      <td>15.0</td>\n",
       "      <td>set_price</td>\n",
       "      <td>legacy</td>\n",
       "      <td>Resume Building</td>\n",
       "      <td>public</td>\n",
       "    </tr>\n",
       "  </tbody>\n",
       "</table>\n",
       "<p>5 rows × 105 columns</p>\n",
       "</div>"
      ],
      "text/plain": [
       "  archivedStatus address__components__city address__components__country  \\\n",
       "0            NaN                Providence                           US   \n",
       "1            NaN                Providence                           US   \n",
       "2            NaN                Providence                           US   \n",
       "3            NaN                Providence                           US   \n",
       "4            NaN                Providence                           US   \n",
       "\n",
       "  address__components__county address__components__number  \\\n",
       "0           Providence County                         158   \n",
       "1           Providence County                         157   \n",
       "2           Providence County                         233   \n",
       "3           Providence County                         152   \n",
       "4           Providence County                         184   \n",
       "\n",
       "    address__components__premise address__components__state  \\\n",
       "0                            NaN                         RI   \n",
       "1                            NaN                         RI   \n",
       "2                            NaN                         RI   \n",
       "3                            NaN                         RI   \n",
       "4  Prince Engineering Laboratory                         RI   \n",
       "\n",
       "  address__components__street  address__components__zip_code  \\\n",
       "0              University Ave                         2906.0   \n",
       "1              University Ave                         2906.0   \n",
       "2                     Hope St                         2906.0   \n",
       "3              University Ave                         2906.0   \n",
       "4                     Hope St                         2912.0   \n",
       "\n",
       "                                  address__formatted    ...     photos__001  \\\n",
       "0      158 University Ave, Providence, RI 02906, USA    ...             NaN   \n",
       "1      157 University Ave, Providence, RI 02906, USA    ...             NaN   \n",
       "2             233 Hope St, Providence, RI 02906, USA    ...             NaN   \n",
       "3      152 University Ave, Providence, RI 02906, USA    ...             NaN   \n",
       "4  Prince Engineering Laboratory, 184 Hope St, Pr...    ...             NaN   \n",
       "\n",
       "  photos__002 photos__003 photos__004 post_type  price price_type  status  \\\n",
       "0         NaN         NaN         NaN   request   25.0   flexible  legacy   \n",
       "1         NaN         NaN         NaN  offering   15.0   flexible  legacy   \n",
       "2         NaN         NaN         NaN   request   15.0   flexible  legacy   \n",
       "3         NaN         NaN         NaN  offering   15.0   flexible  legacy   \n",
       "4         NaN         NaN         NaN  offering   15.0  set_price  legacy   \n",
       "\n",
       "                   title visibility  \n",
       "0  Teach Me How To Cook!     public  \n",
       "1  Long Boarding Lessons     public  \n",
       "2       Personal Trainer     public  \n",
       "3   Final Cut Pro Lesson     public  \n",
       "4        Resume Building     public  \n",
       "\n",
       "[5 rows x 105 columns]"
      ]
     },
     "execution_count": 2,
     "metadata": {},
     "output_type": "execute_result"
    }
   ],
   "source": [
    "#Preprocessing and reading the data\n",
    "allposts = pd.read_csv(\"allPostData.csv\", header=0)\n",
    "allposts.head()"
   ]
  },
  {
   "cell_type": "code",
   "execution_count": 3,
   "metadata": {},
   "outputs": [
    {
     "name": "stdout",
     "output_type": "stream",
     "text": [
      "<class 'pandas.core.frame.DataFrame'>\n",
      "RangeIndex: 811 entries, 0 to 810\n",
      "Data columns (total 2 columns):\n",
      "description    811 non-null object\n",
      "title          811 non-null object\n",
      "dtypes: object(2)\n",
      "memory usage: 12.8+ KB\n"
     ]
    },
    {
     "data": {
      "text/html": [
       "<div>\n",
       "<style scoped>\n",
       "    .dataframe tbody tr th:only-of-type {\n",
       "        vertical-align: middle;\n",
       "    }\n",
       "\n",
       "    .dataframe tbody tr th {\n",
       "        vertical-align: top;\n",
       "    }\n",
       "\n",
       "    .dataframe thead th {\n",
       "        text-align: right;\n",
       "    }\n",
       "</style>\n",
       "<table border=\"1\" class=\"dataframe\">\n",
       "  <thead>\n",
       "    <tr style=\"text-align: right;\">\n",
       "      <th></th>\n",
       "      <th>description</th>\n",
       "      <th>title</th>\n",
       "    </tr>\n",
       "  </thead>\n",
       "  <tbody>\n",
       "    <tr>\n",
       "      <th>0</th>\n",
       "      <td>I'm trying to broaden the repertoire of culina...</td>\n",
       "      <td>Teach Me How To Cook!</td>\n",
       "    </tr>\n",
       "    <tr>\n",
       "      <th>1</th>\n",
       "      <td>I teach you how to ride. It's an incredibly fu...</td>\n",
       "      <td>Long Boarding Lessons</td>\n",
       "    </tr>\n",
       "    <tr>\n",
       "      <th>2</th>\n",
       "      <td>Looking for someone to motivate and guide me i...</td>\n",
       "      <td>Personal Trainer</td>\n",
       "    </tr>\n",
       "    <tr>\n",
       "      <th>3</th>\n",
       "      <td>I have 10 years experience editing videos usin...</td>\n",
       "      <td>Final Cut Pro Lesson</td>\n",
       "    </tr>\n",
       "    <tr>\n",
       "      <th>4</th>\n",
       "      <td>Let me help you build a resume. I've worked ev...</td>\n",
       "      <td>Resume Building</td>\n",
       "    </tr>\n",
       "    <tr>\n",
       "      <th>5</th>\n",
       "      <td>Everyday is an opportunity to do something inc...</td>\n",
       "      <td>Motivational Pep Talk</td>\n",
       "    </tr>\n",
       "    <tr>\n",
       "      <th>6</th>\n",
       "      <td>I've completed 400+ job applications over the ...</td>\n",
       "      <td>Resume + Cover Letter</td>\n",
       "    </tr>\n",
       "    <tr>\n",
       "      <th>7</th>\n",
       "      <td>Handmade (by me!) paracord bracelet, similar t...</td>\n",
       "      <td>Paracord Bracelet</td>\n",
       "    </tr>\n",
       "    <tr>\n",
       "      <th>8</th>\n",
       "      <td>I'll help you with shooting, editing, sound mi...</td>\n",
       "      <td>Video Production</td>\n",
       "    </tr>\n",
       "    <tr>\n",
       "      <th>9</th>\n",
       "      <td>Interested in consulting or business? Come pra...</td>\n",
       "      <td>Consulting Cases</td>\n",
       "    </tr>\n",
       "    <tr>\n",
       "      <th>10</th>\n",
       "      <td>Hello! I would love to learn SAS/SQL. Let me k...</td>\n",
       "      <td>SAS / SQL Tutor</td>\n",
       "    </tr>\n",
       "    <tr>\n",
       "      <th>11</th>\n",
       "      <td>From shooting, to editing, to audio mixing I'm...</td>\n",
       "      <td>Video Production</td>\n",
       "    </tr>\n",
       "    <tr>\n",
       "      <th>12</th>\n",
       "      <td>You need to learn guitar to woo your lover. Le...</td>\n",
       "      <td>Guitar Lessons</td>\n",
       "    </tr>\n",
       "    <tr>\n",
       "      <th>13</th>\n",
       "      <td>Willing to take on any photography projects!</td>\n",
       "      <td>Photography / Portraits</td>\n",
       "    </tr>\n",
       "    <tr>\n",
       "      <th>14</th>\n",
       "      <td>Your tinder profile is not what it could be. L...</td>\n",
       "      <td>Help Your Tinder Profile</td>\n",
       "    </tr>\n",
       "    <tr>\n",
       "      <th>15</th>\n",
       "      <td>Do you want your bae to know how much you love...</td>\n",
       "      <td>Custom Love Song 😍😍😍</td>\n",
       "    </tr>\n",
       "    <tr>\n",
       "      <th>16</th>\n",
       "      <td>Looking for a workout partner who would join m...</td>\n",
       "      <td>Gym Buddy</td>\n",
       "    </tr>\n",
       "    <tr>\n",
       "      <th>17</th>\n",
       "      <td>Feeling down or unmotivated? Hit me up!! I wil...</td>\n",
       "      <td>Personal Cheerleader</td>\n",
       "    </tr>\n",
       "    <tr>\n",
       "      <th>18</th>\n",
       "      <td>Fan works perfectly fine.</td>\n",
       "      <td>Fan</td>\n",
       "    </tr>\n",
       "    <tr>\n",
       "      <th>19</th>\n",
       "      <td>Helps you figure out CS problems. Great listen...</td>\n",
       "      <td>Lil Ducky</td>\n",
       "    </tr>\n",
       "    <tr>\n",
       "      <th>20</th>\n",
       "      <td>I’ll teach you how to ride.  On college hill.</td>\n",
       "      <td>Snowboarding Lessons</td>\n",
       "    </tr>\n",
       "    <tr>\n",
       "      <th>21</th>\n",
       "      <td>Never used. Works perfectly. Approximately 20$...</td>\n",
       "      <td>Bed Bath &amp; Beyond Drawers</td>\n",
       "    </tr>\n",
       "    <tr>\n",
       "      <th>22</th>\n",
       "      <td>I can teach u math!</td>\n",
       "      <td>Math Tutor</td>\n",
       "    </tr>\n",
       "    <tr>\n",
       "      <th>23</th>\n",
       "      <td>3 Head lamp. Bulbs included! Works perfectly</td>\n",
       "      <td>3 Head Lamp</td>\n",
       "    </tr>\n",
       "    <tr>\n",
       "      <th>24</th>\n",
       "      <td>I build cutting-edge websites for startups, po...</td>\n",
       "      <td>Web Development</td>\n",
       "    </tr>\n",
       "    <tr>\n",
       "      <th>25</th>\n",
       "      <td>Rice cooker. Works fine. Just need to get it o...</td>\n",
       "      <td>Rice Cooking Pot</td>\n",
       "    </tr>\n",
       "    <tr>\n",
       "      <th>26</th>\n",
       "      <td>Five-time startup employee + founded 2 startup...</td>\n",
       "      <td>Get A Startup Job</td>\n",
       "    </tr>\n",
       "    <tr>\n",
       "      <th>27</th>\n",
       "      <td>140$ tennis racket for sale! Head tennis racke...</td>\n",
       "      <td>Tennis Racket</td>\n",
       "    </tr>\n",
       "    <tr>\n",
       "      <th>28</th>\n",
       "      <td>Alarm clock. Works perfectly. Try not to snooz...</td>\n",
       "      <td>Alarm Clock / Clock</td>\n",
       "    </tr>\n",
       "    <tr>\n",
       "      <th>29</th>\n",
       "      <td>Orgo kit</td>\n",
       "      <td>Orgo Kit</td>\n",
       "    </tr>\n",
       "  </tbody>\n",
       "</table>\n",
       "</div>"
      ],
      "text/plain": [
       "                                          description  \\\n",
       "0   I'm trying to broaden the repertoire of culina...   \n",
       "1   I teach you how to ride. It's an incredibly fu...   \n",
       "2   Looking for someone to motivate and guide me i...   \n",
       "3   I have 10 years experience editing videos usin...   \n",
       "4   Let me help you build a resume. I've worked ev...   \n",
       "5   Everyday is an opportunity to do something inc...   \n",
       "6   I've completed 400+ job applications over the ...   \n",
       "7   Handmade (by me!) paracord bracelet, similar t...   \n",
       "8   I'll help you with shooting, editing, sound mi...   \n",
       "9   Interested in consulting or business? Come pra...   \n",
       "10  Hello! I would love to learn SAS/SQL. Let me k...   \n",
       "11  From shooting, to editing, to audio mixing I'm...   \n",
       "12  You need to learn guitar to woo your lover. Le...   \n",
       "13       Willing to take on any photography projects!   \n",
       "14  Your tinder profile is not what it could be. L...   \n",
       "15  Do you want your bae to know how much you love...   \n",
       "16  Looking for a workout partner who would join m...   \n",
       "17  Feeling down or unmotivated? Hit me up!! I wil...   \n",
       "18                         Fan works perfectly fine.    \n",
       "19  Helps you figure out CS problems. Great listen...   \n",
       "20      I’ll teach you how to ride.  On college hill.   \n",
       "21  Never used. Works perfectly. Approximately 20$...   \n",
       "22                                I can teach u math!   \n",
       "23       3 Head lamp. Bulbs included! Works perfectly   \n",
       "24  I build cutting-edge websites for startups, po...   \n",
       "25  Rice cooker. Works fine. Just need to get it o...   \n",
       "26  Five-time startup employee + founded 2 startup...   \n",
       "27  140$ tennis racket for sale! Head tennis racke...   \n",
       "28  Alarm clock. Works perfectly. Try not to snooz...   \n",
       "29                                           Orgo kit   \n",
       "\n",
       "                        title  \n",
       "0       Teach Me How To Cook!  \n",
       "1       Long Boarding Lessons  \n",
       "2            Personal Trainer  \n",
       "3        Final Cut Pro Lesson  \n",
       "4             Resume Building  \n",
       "5       Motivational Pep Talk  \n",
       "6      Resume + Cover Letter   \n",
       "7           Paracord Bracelet  \n",
       "8           Video Production   \n",
       "9            Consulting Cases  \n",
       "10            SAS / SQL Tutor  \n",
       "11          Video Production   \n",
       "12             Guitar Lessons  \n",
       "13    Photography / Portraits  \n",
       "14   Help Your Tinder Profile  \n",
       "15       Custom Love Song 😍😍😍  \n",
       "16                  Gym Buddy  \n",
       "17       Personal Cheerleader  \n",
       "18                        Fan  \n",
       "19                  Lil Ducky  \n",
       "20       Snowboarding Lessons  \n",
       "21  Bed Bath & Beyond Drawers  \n",
       "22                 Math Tutor  \n",
       "23                3 Head Lamp  \n",
       "24            Web Development  \n",
       "25           Rice Cooking Pot  \n",
       "26          Get A Startup Job  \n",
       "27              Tennis Racket  \n",
       "28        Alarm Clock / Clock  \n",
       "29                   Orgo Kit  "
      ]
     },
     "execution_count": 3,
     "metadata": {},
     "output_type": "execute_result"
    }
   ],
   "source": [
    "# only select relevant columns --> post titles and descriptions\n",
    "allposts = allposts[['description', 'title']]\n",
    "allposts.info()\n",
    "allposts.shape\n",
    "allposts[:30]"
   ]
  },
  {
   "cell_type": "code",
   "execution_count": 4,
   "metadata": {},
   "outputs": [
    {
     "data": {
      "text/plain": [
       "0     Teach Me How To Cook!\n",
       "1     Long Boarding Lessons\n",
       "2          Personal Trainer\n",
       "3      Final Cut Pro Lesson\n",
       "4           Resume Building\n",
       "5     Motivational Pep Talk\n",
       "6    Resume + Cover Letter \n",
       "7         Paracord Bracelet\n",
       "8         Video Production \n",
       "9          Consulting Cases\n",
       "Name: title, dtype: object"
      ]
     },
     "execution_count": 4,
     "metadata": {},
     "output_type": "execute_result"
    }
   ],
   "source": [
    "#take all the post titles\n",
    "titles = allposts['title']\n",
    "titles[:10]\n",
    "\n",
    "#if it is an object, does that mean it's a list of strings?"
   ]
  },
  {
   "cell_type": "code",
   "execution_count": 5,
   "metadata": {},
   "outputs": [
    {
     "data": {
      "text/plain": [
       "['Teach Me How To Cook!',\n",
       " 'Long Boarding Lessons',\n",
       " 'Personal Trainer',\n",
       " 'Final Cut Pro Lesson',\n",
       " 'Resume Building',\n",
       " 'Motivational Pep Talk',\n",
       " 'Resume + Cover Letter ',\n",
       " 'Paracord Bracelet',\n",
       " 'Video Production ',\n",
       " 'Consulting Cases']"
      ]
     },
     "execution_count": 5,
     "metadata": {},
     "output_type": "execute_result"
    }
   ],
   "source": [
    "#Create a list of strings comprised of different title names\n",
    "post_titles = [title for title in titles]\n",
    "post_titles[:10]"
   ]
  },
  {
   "cell_type": "code",
   "execution_count": 6,
   "metadata": {},
   "outputs": [
    {
     "data": {
      "text/plain": [
       "[['teach', 'me', 'how', 'to', 'cook!'],\n",
       " ['long', 'boarding', 'lessons'],\n",
       " ['personal', 'trainer'],\n",
       " ['final', 'cut', 'pro', 'lesson'],\n",
       " ['resume', 'building'],\n",
       " ['motivational', 'pep', 'talk'],\n",
       " ['resume', '+', 'cover', 'letter'],\n",
       " ['paracord', 'bracelet'],\n",
       " ['video', 'production'],\n",
       " ['consulting', 'cases']]"
      ]
     },
     "execution_count": 6,
     "metadata": {},
     "output_type": "execute_result"
    }
   ],
   "source": [
    "#for each string of post titles in the list, tokenize the string into words\n",
    "tokens = [[word for word in title.lower().split()] for title in post_titles]\n",
    "tokens[:10]"
   ]
  },
  {
   "cell_type": "code",
   "execution_count": 7,
   "metadata": {},
   "outputs": [
    {
     "data": {
      "text/plain": [
       "[['teach', 'me', 'how', 'to'],\n",
       " ['long', 'boarding', 'lessons'],\n",
       " ['personal', 'trainer'],\n",
       " ['final', 'cut', 'pro', 'lesson'],\n",
       " ['resume', 'building'],\n",
       " ['motivational', 'pep', 'talk'],\n",
       " ['resume', 'cover', 'letter'],\n",
       " ['paracord', 'bracelet'],\n",
       " ['video', 'production'],\n",
       " ['consulting', 'cases']]"
      ]
     },
     "execution_count": 7,
     "metadata": {},
     "output_type": "execute_result"
    }
   ],
   "source": [
    "#Remove punctuationi and non-alphanumeric tokens including emojis \n",
    "clean_words = [[word for word in title if word.isalpha()] for title in tokens]\n",
    "clean_words[:10]"
   ]
  },
  {
   "cell_type": "markdown",
   "metadata": {},
   "source": [
    "### Data Cleaning"
   ]
  },
  {
   "cell_type": "markdown",
   "metadata": {},
   "source": [
    "#### (1) Define a function that takes in a list of strings and cleans it up\n",
    "First, we need to clean up our text."
   ]
  },
  {
   "cell_type": "code",
   "execution_count": 8,
   "metadata": {},
   "outputs": [
    {
     "name": "stdout",
     "output_type": "stream",
     "text": [
      "{'ours', \"you'll\", 'its', 'been', 'shan', 'their', 'such', 'isn', 'own', 'too', 'so', 'he', 'when', 'mightn', 'once', 'other', 'am', 'after', 'his', 'my', \"didn't\", \"wouldn't\", 'are', 'we', 'further', 'll', 'some', \"should've\", \"hadn't\", 'can', 'to', 'be', \"you've\", 'again', 'than', 'that', 'same', 'has', \"won't\", 'how', 'hadn', 'very', 'out', 'you', 'over', 'm', 'will', 'an', 'where', \"shouldn't\", 'whom', 'before', 'with', 'our', 'of', 'but', 'have', 'off', 'most', 'should', \"aren't\", 'who', 'against', 'in', 'there', 'why', \"you're\", 've', \"mustn't\", \"couldn't\", 'were', 'needn', 'being', 'did', 'theirs', 'this', 're', 'from', 'up', 'only', 'because', 'him', 'through', 'those', 'couldn', \"weren't\", 'was', \"haven't\", 'at', 'between', 'itself', 'ourselves', 'me', 'below', 'which', \"needn't\", 'won', 'wasn', 'all', 'myself', 'shouldn', 'above', 'do', 'hasn', 'by', 'more', 'these', 'nor', 'doing', 'o', 'the', 'under', 'your', 'any', 'them', 'ma', 'weren', 'now', 'herself', 'i', 'during', \"that'll\", 'no', 'ain', \"wasn't\", \"she's\", 'each', \"isn't\", 'himself', 'she', 'doesn', 'they', 'while', \"don't\", 'few', 'it', 'and', 'down', 'a', 'yourself', 'what', 'on', 'if', 'not', 'both', 'aren', 'or', 'd', 'wouldn', 'mustn', 'yourselves', \"shan't\", \"doesn't\", \"hasn't\", 'then', 'themselves', 'don', 's', \"mightn't\", 'yours', 'having', 'until', 'about', 'didn', \"you'd\", 'y', 'haven', 'here', \"it's\", 'just', 'had', 'as', 'is', 'does', 'hers', 'for', 'into', 'her', 't'}\n"
     ]
    },
    {
     "data": {
      "text/plain": [
       "[['teach'],\n",
       " ['long', 'boarding', 'lessons'],\n",
       " ['personal', 'trainer'],\n",
       " ['final', 'cut', 'pro', 'lesson'],\n",
       " ['resume', 'building'],\n",
       " ['motivational', 'pep', 'talk'],\n",
       " ['resume', 'cover', 'letter'],\n",
       " ['paracord', 'bracelet'],\n",
       " ['video', 'production'],\n",
       " ['consulting', 'cases'],\n",
       " ['sas', 'sql', 'tutor'],\n",
       " ['video', 'production'],\n",
       " ['guitar', 'lessons'],\n",
       " ['photography', 'portraits'],\n",
       " ['help', 'tinder', 'profile'],\n",
       " ['custom', 'love', 'song'],\n",
       " ['gym', 'buddy'],\n",
       " ['personal', 'cheerleader'],\n",
       " ['fan'],\n",
       " ['lil', 'ducky'],\n",
       " ['snowboarding', 'lessons'],\n",
       " ['bed', 'bath', 'beyond', 'drawers'],\n",
       " ['math', 'tutor'],\n",
       " ['head', 'lamp'],\n",
       " ['web', 'development'],\n",
       " ['rice', 'cooking', 'pot'],\n",
       " ['get', 'startup', 'job'],\n",
       " ['tennis', 'racket'],\n",
       " ['alarm', 'clock', 'clock'],\n",
       " ['orgo', 'kit']]"
      ]
     },
     "execution_count": 8,
     "metadata": {},
     "output_type": "execute_result"
    }
   ],
   "source": [
    "#identify a list of stopwords then remove words in stoplist from post titles\n",
    "stoplist = set(stopwords.words('english'))\n",
    "titles_nostopwords = [[word for word in title if word not in stoplist] for title in clean_words]\n",
    "print(stoplist)\n",
    "#print(titles_nostopwords)\n",
    "titles_nostopwords[:30]"
   ]
  },
  {
   "cell_type": "markdown",
   "metadata": {},
   "source": [
    "**\"titles_nostopwords\"** is now our cleaned up document, containing the data from our users. As seen above, it is still a list of lists--in other words, a nested list of strings, with each string representing a word."
   ]
  },
  {
   "cell_type": "markdown",
   "metadata": {},
   "source": [
    "#### (2) Vectorize the document \n",
    "Then, we need to take all the titles in the data, and vectorize each word using the large Google trained model which we've just loaded.\n",
    "\n",
    "The RaRe Technologies (https://github.com/RaRe-Technologies/gensim-data) website describes the dataset as: \"Pre-trained vectors trained on a part of the Google News dataset (about 100 billion words). The model contains 300-dimensional vectors for 3 million words and phrases. The phrases were obtained using a simple data-driven approach described in 'Distributed Representations of Words and Phrases and their Compositionality' (https://code.google.com/archive/p/word2vec/).\""
   ]
  },
  {
   "cell_type": "code",
   "execution_count": 9,
   "metadata": {},
   "outputs": [],
   "source": [
    "#Load pre-trained Word2Vec model based on the Google corpus (https://s3.amazonaws.com/dl4j-distribution/GoogleNews-vectors-negative300.bin.gz)\n",
    "#import warnings\n",
    "#warnings.filterwarnings(action='ignore', category=UserWarning, module='gensim')\n",
    "model = gensim.models.KeyedVectors.load_word2vec_format('GoogleNews-vectors-negative300.bin', binary = True) \n"
   ]
  },
  {
   "cell_type": "code",
   "execution_count": 10,
   "metadata": {},
   "outputs": [
    {
     "name": "stdout",
     "output_type": "stream",
     "text": [
      "300\n",
      "<gensim.models.keyedvectors.Word2VecKeyedVectors object at 0x1a1f5f2a58>\n"
     ]
    }
   ],
   "source": [
    "#sanity check \n",
    "#model.shape\n",
    "\n",
    "# Check dimension of word vectors and info about the model\n",
    "print(model.vector_size)\n",
    "print(model)"
   ]
  },
  {
   "cell_type": "markdown",
   "metadata": {
    "scrolled": true
   },
   "source": [
    "The 300 dimensions is significant here because it tells us that the model generates 300-D word vectors. The \"Word Vector Dimension\" is the dimension of the vector that has been trained by Google using their news data. The industry norm is to use 300-500 D sized vectors because research has shown that there hasn't been significant performance improvement after 300-400, although this depends on the dataset. Note that word vector dimension is NOT the same as the vocabulary size. Some helpful links are the following: (https://stackoverflow.com/questions/38137551/what-is-word-vector-dimension, https://www.youtube.com/watch?v=kGGA1Wm8_x0&feature=youtu.be, https://medium.com/@jayeshbahire/introduction-to-word-vectors-ea1d4e4b84bf) "
   ]
  },
  {
   "cell_type": "markdown",
   "metadata": {},
   "source": [
    "For a deeper look into word vectors, an example is shown below: "
   ]
  },
  {
   "cell_type": "code",
   "execution_count": 11,
   "metadata": {},
   "outputs": [
    {
     "name": "stdout",
     "output_type": "stream",
     "text": [
      "[-0.18164062  0.16503906 -0.16601562  0.35742188 -0.09228516  0.20117188\n",
      " -0.0546875  -0.26171875 -0.17285156 -0.08056641  0.14648438 -0.24609375\n",
      "  0.18652344  0.10253906 -0.3203125   0.16699219 -0.0032196  -0.06640625\n",
      "  0.06591797 -0.109375    0.13964844 -0.05029297  0.25390625  0.0859375\n",
      "  0.02026367  0.05517578 -0.08447266  0.07324219  0.15429688 -0.13867188\n",
      " -0.25195312 -0.15136719  0.07958984  0.00848389 -0.24902344  0.05224609\n",
      "  0.04394531 -0.19726562 -0.2109375   0.01477051 -0.23632812 -0.14355469\n",
      "  0.17773438  0.26757812 -0.08789062 -0.07910156 -0.16113281  0.23632812\n",
      " -0.07177734  0.08837891]\n"
     ]
    },
    {
     "data": {
      "text/plain": [
       "(300,)"
      ]
     },
     "execution_count": 11,
     "metadata": {},
     "output_type": "execute_result"
    }
   ],
   "source": [
    "food_word_vector = model['food']\n",
    "print(food_word_vector[:50])\n",
    "food_word_vector.shape"
   ]
  },
  {
   "cell_type": "markdown",
   "metadata": {},
   "source": [
    "Next, we need to create a process to vectorize all the words for each title in our title list. We know that word2vec can only \"vectorize\" words that show up in the Google News vocabulary, so we need to ensure that we're only looking at words in that vocab list to prevent errors."
   ]
  },
  {
   "cell_type": "code",
   "execution_count": 12,
   "metadata": {},
   "outputs": [],
   "source": [
    "#limit vector list to those in Google News vocabulary list \n",
    "#limited_vlist = [[model[word] for word in title \n",
    " #                 if word in model.vocab] for title in titles_nostopwords]\n",
    "#limited_vlist[:1]"
   ]
  },
  {
   "cell_type": "markdown",
   "metadata": {},
   "source": [
    "We need to be able to match these vectors to the words they represent, so we need to create a list of words that correspond to these given filtered vectors."
   ]
  },
  {
   "cell_type": "code",
   "execution_count": 10,
   "metadata": {},
   "outputs": [
    {
     "data": {
      "text/plain": [
       "[['teach'],\n",
       " ['long', 'boarding', 'lessons'],\n",
       " ['personal', 'trainer'],\n",
       " ['final', 'cut', 'pro', 'lesson'],\n",
       " ['resume', 'building'],\n",
       " ['motivational', 'pep', 'talk'],\n",
       " ['resume', 'cover', 'letter'],\n",
       " ['bracelet'],\n",
       " ['video', 'production'],\n",
       " ['consulting', 'cases']]"
      ]
     },
     "execution_count": 10,
     "metadata": {},
     "output_type": "execute_result"
    }
   ],
   "source": [
    "filtered_word_list = [[word for word in title if word in model.vocab] for title in titles_nostopwords]\n",
    "filtered_word_list[:10]"
   ]
  },
  {
   "cell_type": "markdown",
   "metadata": {},
   "source": [
    "#### (3) Word Averagings"
   ]
  },
  {
   "cell_type": "markdown",
   "metadata": {},
   "source": [
    "However, notice that we still have a list of lists. We want to have each **Title** be represented as a single vector that describes the sentiment of the entry. To do this, we will take the average of the word vectors in each title list, and use that \"average vector\" as the final vector to define a title. For helpful resources that discuss why and how this is a valid method of measuring similarites, here are a couple of links:\n",
    "- https://stackoverflow.com/questions/46889727/word2vec-what-is-best-add-concatenate-or-average-word-vectors\n",
    "- https://www.researchgate.net/post/What_is_the_best_way_to_measure_text_similarities_based_on_word2vec_word_embeddings\n",
    "- https://www.quora.com/Is-the-average-of-vectors-in-word2vec-valid\n",
    "- https://lirias.kuleuven.be/bitstream/123456789/500032/3/SIGIR2015TalkVulicMoensSlides.pdf\n",
    "\n",
    "*note to self: look for more accessible papers about this topic!\n",
    "\n"
   ]
  },
  {
   "cell_type": "markdown",
   "metadata": {},
   "source": [
    "To take the average \"sentiment\" of each title vector, we need to apply a few concepts from linear algebra. First, we need to do an element-wise addition of the word vectors that comprise a title. This results in a vector, which we can then normalize. We want to do this for all of the titles in our list called **filtered_word_list**.\n",
    "\n",
    "Element-wise addition simply means taking the sum of each corresponding element of a vector. For more information on element-wise operations, here is a good resource: http://www.glue.umd.edu/afs/glue.umd.edu/system/info/olh/Numerical/Matlab_Matrix_Manipulation_Software/Matrix_Vector_Operations/elementwise\n",
    "\n",
    "There are two popular ways to do element-wise addition in Python. \n",
    "\n",
    "The first one is by using the map (https://docs.python.org/2/library/functions.html#map) command with the add (https://docs.python.org/2/library/operator.html#operator.add) operator.\n",
    "\n",
    "The second method can be done by \"zipping\" (https://docs.python.org/2/library/functions.html#zip) using a list comprehension. \n",
    "\n",
    "Because we have a list of words in titles of different lengths (and also because, as a noob, the first method makes more programmatic and mathematical sense to me) I'll use the first method. \n",
    "\n"
   ]
  },
  {
   "cell_type": "code",
   "execution_count": 14,
   "metadata": {},
   "outputs": [],
   "source": [
    "#list_titles = list(map(add, \n",
    "#                       [[[model[word]] for word in title] for title in filtered_word_list], \n",
    "#                       [[[model[word]] for word in title] for title in filtered_word_list]))\n"
   ]
  },
  {
   "cell_type": "code",
   "execution_count": 11,
   "metadata": {},
   "outputs": [],
   "source": [
    "# iteration 2 of dictionary of title vectors\n",
    "title_vectors = {}\n",
    "\n",
    "for title in filtered_word_list: \n",
    "    word_vecs = [model[word] for word in title]\n",
    "    if len(word_vecs) == 0:\n",
    "        title_vec = [np.zeros(300)]\n",
    "    else: \n",
    "        title_vec = normalize(sum(word_vecs).reshape(1, -1))\n",
    "    \n",
    "    title_vectors[\" \".join(title)] = title_vec[0]\n",
    "    \n",
    "    \n",
    "    \n",
    "    #sum_vec = np.zeros(300)\n",
    "    #norm_sum_vec = np.zeros(300)\n",
    "    #for word in title: \n",
    "        #sum_vec += model[word]\n",
    "        #norm_sum_vec += np.linalg.norm(sum_vec)\n",
    "        #norm_sum_vec = np.linalg.norm(sum_vec)\n",
    "    #dict_of_title_vecs[\" \".join(title)] = norm_sum_vec\n",
    "\n",
    "#if we normalize this, do i still need to average it? should i just np.mean the whole thing?\n",
    "\n"
   ]
  },
  {
   "cell_type": "markdown",
   "metadata": {},
   "source": [
    "Another way to do this, that is more intuitive, is through loops. We initialized a dictionary for the title vectors. Then, for each title in our **filtered_word_list**, we took the word vector for each word it contained. Note that we then added this word vector into a numpy 300-D array initialized with zeroes, repeating this loop for each word in the title. Then, we mapped **dict_of_title_vecs** to the list of vector summations for each title. Some links that helped me with this part include:\n",
    "- https://stackoverflow.com/questions/43629270/how-to-get-single-value-from-dict-with-single-entry\n",
    "- https://www.programiz.com/python-programming/methods/dictionary/items\n",
    "- https://www.programiz.com/python-programming/methods/string/join\n",
    "- https://stackoverflow.com/questions/12218796/python-slice-first-and-last-element-in-list\n",
    "- https://docs.scipy.org/doc/numpy/reference/generated/numpy.zeros.html\n",
    "- https://stackoverflow.com/questions/53301916/python-gensim-what-is-the-meaning-of-syn0-and-syn0norm\n",
    "- for lambda functions which I didn't use but read about http://book.pythontips.com/en/latest/lambdas.html\n",
    "- reduce was another function that could work https://www.geeksforgeeks.org/reduce-in-python/\n",
    "- http://book.pythontips.com/en/latest/map_filter.html\n",
    "- https://stackoverflow.com/questions/845112/concise-vector-adding-in-python\n",
    "- python dictionary to list https://stackoverflow.com/questions/1679384/converting-python-dictionary-to-list\n",
    "- gensim stuff https://radimrehurek.com/gensim/models/keyedvectors.html\n",
    "- mapping lists to dict https://stackoverflow.com/questions/15834244/how-to-map-multiple-lists-to-one-dictionary \n",
    "- zipping and lambda https://www.oreilly.com/library/view/python-cookbook/0596001673/ch01s15.html\n",
    "- elementwise addition https://stackoverflow.com/questions/18713321/element-wise-addition-of-2-lists\n",
    "\n"
   ]
  },
  {
   "cell_type": "code",
   "execution_count": 16,
   "metadata": {},
   "outputs": [],
   "source": [
    "#title_vectors.items()\n",
    "#dict_of_title_vecs.items()\n",
    "#commenting this part out but this is just a sanity check. \n",
    "#need to find out how to print only the first entry in this "
   ]
  },
  {
   "cell_type": "markdown",
   "metadata": {},
   "source": [
    "Now that we have the dictionary of title summary/sentiment vectors, we can further analyze how these look, per title. To do this, we can turn the dictionary into a dataframe, then look at the first few rows and all the columns, to ensure that it's a 300-D vector mapped onto the right titles. We'll use the from_dict function in pandas, which constructs a dataframe from a dictionary or array (https://pandas.pydata.org/pandas-docs/stable/reference/api/pandas.DataFrame.from_dict.html). Since they title keys are located on the rows of the dictionary, we want to use orient=index."
   ]
  },
  {
   "cell_type": "code",
   "execution_count": 17,
   "metadata": {},
   "outputs": [
    {
     "data": {
      "text/html": [
       "<div>\n",
       "<style scoped>\n",
       "    .dataframe tbody tr th:only-of-type {\n",
       "        vertical-align: middle;\n",
       "    }\n",
       "\n",
       "    .dataframe tbody tr th {\n",
       "        vertical-align: top;\n",
       "    }\n",
       "\n",
       "    .dataframe thead th {\n",
       "        text-align: right;\n",
       "    }\n",
       "</style>\n",
       "<table border=\"1\" class=\"dataframe\">\n",
       "  <thead>\n",
       "    <tr style=\"text-align: right;\">\n",
       "      <th></th>\n",
       "      <th>0</th>\n",
       "      <th>1</th>\n",
       "      <th>2</th>\n",
       "      <th>3</th>\n",
       "      <th>4</th>\n",
       "      <th>5</th>\n",
       "      <th>6</th>\n",
       "      <th>7</th>\n",
       "      <th>8</th>\n",
       "      <th>9</th>\n",
       "      <th>...</th>\n",
       "      <th>290</th>\n",
       "      <th>291</th>\n",
       "      <th>292</th>\n",
       "      <th>293</th>\n",
       "      <th>294</th>\n",
       "      <th>295</th>\n",
       "      <th>296</th>\n",
       "      <th>297</th>\n",
       "      <th>298</th>\n",
       "      <th>299</th>\n",
       "    </tr>\n",
       "  </thead>\n",
       "  <tbody>\n",
       "    <tr>\n",
       "      <th>teach</th>\n",
       "      <td>0.042356</td>\n",
       "      <td>-0.013683</td>\n",
       "      <td>0.077740</td>\n",
       "      <td>0.028238</td>\n",
       "      <td>0.042008</td>\n",
       "      <td>0.044622</td>\n",
       "      <td>0.087502</td>\n",
       "      <td>-0.047760</td>\n",
       "      <td>-0.061704</td>\n",
       "      <td>-0.068677</td>\n",
       "      <td>...</td>\n",
       "      <td>-0.041659</td>\n",
       "      <td>0.048806</td>\n",
       "      <td>-0.060310</td>\n",
       "      <td>-0.049852</td>\n",
       "      <td>-0.080181</td>\n",
       "      <td>-0.029283</td>\n",
       "      <td>-0.017866</td>\n",
       "      <td>-0.058567</td>\n",
       "      <td>0.064842</td>\n",
       "      <td>0.035907</td>\n",
       "    </tr>\n",
       "    <tr>\n",
       "      <th>long boarding lessons</th>\n",
       "      <td>0.001692</td>\n",
       "      <td>0.068215</td>\n",
       "      <td>-0.002461</td>\n",
       "      <td>0.061446</td>\n",
       "      <td>0.042063</td>\n",
       "      <td>0.003252</td>\n",
       "      <td>-0.060083</td>\n",
       "      <td>-0.080543</td>\n",
       "      <td>0.039118</td>\n",
       "      <td>-0.007406</td>\n",
       "      <td>...</td>\n",
       "      <td>-0.085005</td>\n",
       "      <td>0.038063</td>\n",
       "      <td>-0.006988</td>\n",
       "      <td>-0.037711</td>\n",
       "      <td>-0.043074</td>\n",
       "      <td>-0.030613</td>\n",
       "      <td>-0.031250</td>\n",
       "      <td>0.035514</td>\n",
       "      <td>0.011599</td>\n",
       "      <td>0.019427</td>\n",
       "    </tr>\n",
       "    <tr>\n",
       "      <th>personal trainer</th>\n",
       "      <td>0.029323</td>\n",
       "      <td>-0.014871</td>\n",
       "      <td>0.005665</td>\n",
       "      <td>-0.021717</td>\n",
       "      <td>-0.011790</td>\n",
       "      <td>0.098933</td>\n",
       "      <td>-0.006505</td>\n",
       "      <td>-0.015009</td>\n",
       "      <td>0.049572</td>\n",
       "      <td>-0.079944</td>\n",
       "      <td>...</td>\n",
       "      <td>-0.047631</td>\n",
       "      <td>0.042700</td>\n",
       "      <td>-0.010282</td>\n",
       "      <td>-0.057493</td>\n",
       "      <td>0.004197</td>\n",
       "      <td>-0.124847</td>\n",
       "      <td>0.027278</td>\n",
       "      <td>0.004197</td>\n",
       "      <td>-0.085609</td>\n",
       "      <td>-0.059066</td>\n",
       "    </tr>\n",
       "    <tr>\n",
       "      <th>final cut pro lesson</th>\n",
       "      <td>0.075196</td>\n",
       "      <td>0.013171</td>\n",
       "      <td>0.087968</td>\n",
       "      <td>0.011088</td>\n",
       "      <td>0.028483</td>\n",
       "      <td>-0.005076</td>\n",
       "      <td>-0.037842</td>\n",
       "      <td>-0.095989</td>\n",
       "      <td>0.128256</td>\n",
       "      <td>0.047445</td>\n",
       "      <td>...</td>\n",
       "      <td>-0.056987</td>\n",
       "      <td>-0.063050</td>\n",
       "      <td>-0.035838</td>\n",
       "      <td>-0.046753</td>\n",
       "      <td>-0.122478</td>\n",
       "      <td>-0.103354</td>\n",
       "      <td>-0.054444</td>\n",
       "      <td>-0.016235</td>\n",
       "      <td>-0.008443</td>\n",
       "      <td>0.000488</td>\n",
       "    </tr>\n",
       "    <tr>\n",
       "      <th>resume building</th>\n",
       "      <td>-0.035967</td>\n",
       "      <td>0.055128</td>\n",
       "      <td>0.020805</td>\n",
       "      <td>0.010480</td>\n",
       "      <td>0.029083</td>\n",
       "      <td>-0.019844</td>\n",
       "      <td>0.025177</td>\n",
       "      <td>-0.040928</td>\n",
       "      <td>0.123775</td>\n",
       "      <td>-0.067360</td>\n",
       "      <td>...</td>\n",
       "      <td>-0.066476</td>\n",
       "      <td>0.069329</td>\n",
       "      <td>-0.077390</td>\n",
       "      <td>0.023502</td>\n",
       "      <td>-0.008434</td>\n",
       "      <td>-0.029703</td>\n",
       "      <td>0.078879</td>\n",
       "      <td>-0.033192</td>\n",
       "      <td>0.004713</td>\n",
       "      <td>-0.017518</td>\n",
       "    </tr>\n",
       "  </tbody>\n",
       "</table>\n",
       "<p>5 rows × 300 columns</p>\n",
       "</div>"
      ],
      "text/plain": [
       "                            0         1         2         3         4    \\\n",
       "teach                  0.042356 -0.013683  0.077740  0.028238  0.042008   \n",
       "long boarding lessons  0.001692  0.068215 -0.002461  0.061446  0.042063   \n",
       "personal trainer       0.029323 -0.014871  0.005665 -0.021717 -0.011790   \n",
       "final cut pro lesson   0.075196  0.013171  0.087968  0.011088  0.028483   \n",
       "resume building       -0.035967  0.055128  0.020805  0.010480  0.029083   \n",
       "\n",
       "                            5         6         7         8         9    \\\n",
       "teach                  0.044622  0.087502 -0.047760 -0.061704 -0.068677   \n",
       "long boarding lessons  0.003252 -0.060083 -0.080543  0.039118 -0.007406   \n",
       "personal trainer       0.098933 -0.006505 -0.015009  0.049572 -0.079944   \n",
       "final cut pro lesson  -0.005076 -0.037842 -0.095989  0.128256  0.047445   \n",
       "resume building       -0.019844  0.025177 -0.040928  0.123775 -0.067360   \n",
       "\n",
       "                         ...          290       291       292       293  \\\n",
       "teach                    ...    -0.041659  0.048806 -0.060310 -0.049852   \n",
       "long boarding lessons    ...    -0.085005  0.038063 -0.006988 -0.037711   \n",
       "personal trainer         ...    -0.047631  0.042700 -0.010282 -0.057493   \n",
       "final cut pro lesson     ...    -0.056987 -0.063050 -0.035838 -0.046753   \n",
       "resume building          ...    -0.066476  0.069329 -0.077390  0.023502   \n",
       "\n",
       "                            294       295       296       297       298  \\\n",
       "teach                 -0.080181 -0.029283 -0.017866 -0.058567  0.064842   \n",
       "long boarding lessons -0.043074 -0.030613 -0.031250  0.035514  0.011599   \n",
       "personal trainer       0.004197 -0.124847  0.027278  0.004197 -0.085609   \n",
       "final cut pro lesson  -0.122478 -0.103354 -0.054444 -0.016235 -0.008443   \n",
       "resume building       -0.008434 -0.029703  0.078879 -0.033192  0.004713   \n",
       "\n",
       "                            299  \n",
       "teach                  0.035907  \n",
       "long boarding lessons  0.019427  \n",
       "personal trainer      -0.059066  \n",
       "final cut pro lesson   0.000488  \n",
       "resume building       -0.017518  \n",
       "\n",
       "[5 rows x 300 columns]"
      ]
     },
     "execution_count": 17,
     "metadata": {},
     "output_type": "execute_result"
    }
   ],
   "source": [
    "word_vec_master = pd.DataFrame.from_dict(title_vectors, orient='index')\n",
    "word_vec_master.head()"
   ]
  },
  {
   "cell_type": "markdown",
   "metadata": {},
   "source": [
    "After getting the elementwise summation of our word vectors, we're still not done--we still need to get the mean of those words, before generating a final \"title sentiment\" vector that we can use in the recommender system. A useful function for normalizing or sclaing input vectors is through skleanrn's normalize(). https://scikit-learn.org/stable/modules/generated/sklearn.preprocessing.normalize.html \n",
    "\n",
    "It is important to normalize our title vectors because later on, we plan to use the dot-product, which is a quadratic form that will eventually quantify the similarity of our Title and Google News category pairs. \"A norm is a function that takes a vector as an input and returns a scalar value that can be interpreted as the \"size\", \"length\" or \"magnitude\" of that vector.\" For more information on normalization, I used these documents: \n",
    "- https://scikit-learn.org/stable/modules/preprocessing.html#scaling-features-to-a-range.\n",
    "- https://stackoverflow.com/questions/32141856/is-norm-equivalent-to-euclidean-distance\n",
    "- Norm and relation to dot product http://www.oxfordmathcenter.com/drupal7/node/168\n",
    "\n",
    "Note that we needed to reshape our array using array.reshape(-1,1) because normalize() usually expects a 2D array, meanwhile ours was only a 1D array. (It was of the size (300,1) since we added Eij elements for the word vectors in each title.) Also note that we are using and L2 norm in this case (which is the Euclidean Norm). This is a single vector that represents that Euclidian (meaning in Euclidian space) distance between that vector point to the origin. The L2 norm of differenc between 2 vectors then is equivalent to the Euclidian distance between those 2 points--which can then tell us how similar words are. Helpful links for this process are below: \n",
    "- https://scikit-learn.org/stable/modules/generated/sklearn.preprocessing.normalize.html\n",
    "- http://kawahara.ca/how-to-normalize-vectors-to-unit-norm-in-python/\n",
    "- https://docs.scipy.org/doc/numpy-1.13.0/reference/generated/numpy.linalg.norm.html\n",
    "- https://pandas.pydata.org/pandas-docs/stable/reference/api/pandas.DataFrame.from_dict.html\n",
    "- In Python https://stackoverflow.com/questions/21030391/how-to-normalize-an-array-in-numpy\n",
    "- For more conceptual vector magniture and norms https://www.khanacademy.org/computing/computer-programming/programming-natural-simulations/programming-vectors/a/vector-magnitude-normalization \n",
    "- https://stackoverflow.com/questions/26414913/normalize-columns-of-pandas-data-frame\n",
    "- https://scikit-learn.org/stable/modules/preprocessing.html#scaling-features-to-a-range\n",
    "- https://stackoverflow.com/questions/49296660/vectorized-dictionary-in-python\n",
    "- https://stackoverflow.com/questions/16417916/normalizing-dictionary-values\n",
    "- https://docs.scipy.org/doc/numpy/reference/generated/numpy.linalg.norm.html\n",
    "- https://stackoverflow.com/questions/32141856/is-norm-equivalent-to-euclidean-distance\n",
    "- http://www.oxfordmathcenter.com/drupal7/node/168"
   ]
  },
  {
   "cell_type": "markdown",
   "metadata": {},
   "source": [
    "Now that we have a vectorized and labeled dictionary, we want to take the columns and match the values there with the normalized values in the Google News model. This will help us see how similar a title from our dataset is, to other products/services that were found in the Google training data. \n",
    "\n",
    "But first, to ensure the interpretabiity of our data, we need to reduce our dimensions down fro 300 to 2. \n",
    "\n",
    "#### (4) Dimensionality Reduction\n",
    "To do this, we'll be using a method called PCA, or Principal Component Analysis. (https://en.wikipedia.org/wiki/Principal_component_analysis) PCA is \"a statistical procedure that uses an orthogonal transformation to convert a set of observations of possibly correlated variables into a set of values of linearly uncorrelated variables called principal components.\" In other words, through PCA we want to look at \"directions [of data] where there is the most variance, the directions where the data is most spread out.\"\n",
    "\n",
    "For further theoretical background on this, I found the following links to be helpful:\n",
    "- https://georgemdallas.wordpress.com/2013/10/30/principal-component-analysis-4-dummies-eigenvectors-eigenvalues-and-dimension-reduction/ \n",
    "- https://stats.stackexchange.com/questions/2691/making-sense-of-principal-component-analysis-eigenvectors-eigenvalues great post about explaining PCA to your grandma \n",
    "- https://towardsdatascience.com/pca-using-python-scikit-learn-e653f8989e60 useful guide for applying PCA on your dataset\n",
    "\n",
    "In essence, PCA constructs some new characteristics that summarize the other dimensions in our data, rather than discarding entire columns."
   ]
  },
  {
   "cell_type": "code",
   "execution_count": 30,
   "metadata": {},
   "outputs": [],
   "source": [
    "#standardize the data and features using standardscaler\n",
    "#x = StandardScaler().fit_transform(word_vec_master)"
   ]
  },
  {
   "cell_type": "markdown",
   "metadata": {},
   "source": [
    "First, we need to standardize the data to get our dataset and its features scaled to a mean of 0 and a variance of 1. This is useful for optimal performance for many machine learning algorithms. To read on about the importance of feature scaling, this is a good article by sci-kit learn https://scikit-learn.org/stable/auto_examples/preprocessing/plot_scaling_importance.html#sphx-glr-auto-examples-preprocessing-plot-scaling-importance-py. "
   ]
  },
  {
   "cell_type": "code",
   "execution_count": 18,
   "metadata": {},
   "outputs": [],
   "source": [
    "# PCA Projection to 2D\n",
    "pca = PCA(n_components=2)\n",
    "principalComponents = pca.fit_transform(word_vec_master)"
   ]
  },
  {
   "cell_type": "markdown",
   "metadata": {},
   "source": [
    "Next, we want to pare down and summarize our 300-d vector into 2 PCA components. To do that, we use the command pca.fit_transform. (https://scikit-learn.org/stable/modules/generated/sklearn.decomposition.PCA.html) "
   ]
  },
  {
   "cell_type": "code",
   "execution_count": 19,
   "metadata": {},
   "outputs": [
    {
     "data": {
      "text/html": [
       "<div>\n",
       "<style scoped>\n",
       "    .dataframe tbody tr th:only-of-type {\n",
       "        vertical-align: middle;\n",
       "    }\n",
       "\n",
       "    .dataframe tbody tr th {\n",
       "        vertical-align: top;\n",
       "    }\n",
       "\n",
       "    .dataframe thead th {\n",
       "        text-align: right;\n",
       "    }\n",
       "</style>\n",
       "<table border=\"1\" class=\"dataframe\">\n",
       "  <thead>\n",
       "    <tr style=\"text-align: right;\">\n",
       "      <th></th>\n",
       "      <th>principal component 1</th>\n",
       "      <th>principal component 2</th>\n",
       "    </tr>\n",
       "  </thead>\n",
       "  <tbody>\n",
       "    <tr>\n",
       "      <th>0</th>\n",
       "      <td>0.458881</td>\n",
       "      <td>-0.028745</td>\n",
       "    </tr>\n",
       "    <tr>\n",
       "      <th>1</th>\n",
       "      <td>0.456749</td>\n",
       "      <td>-0.085840</td>\n",
       "    </tr>\n",
       "    <tr>\n",
       "      <th>2</th>\n",
       "      <td>-0.001606</td>\n",
       "      <td>0.003900</td>\n",
       "    </tr>\n",
       "    <tr>\n",
       "      <th>3</th>\n",
       "      <td>0.245031</td>\n",
       "      <td>-0.124006</td>\n",
       "    </tr>\n",
       "    <tr>\n",
       "      <th>4</th>\n",
       "      <td>-0.071072</td>\n",
       "      <td>0.026061</td>\n",
       "    </tr>\n",
       "  </tbody>\n",
       "</table>\n",
       "</div>"
      ],
      "text/plain": [
       "   principal component 1  principal component 2\n",
       "0               0.458881              -0.028745\n",
       "1               0.456749              -0.085840\n",
       "2              -0.001606               0.003900\n",
       "3               0.245031              -0.124006\n",
       "4              -0.071072               0.026061"
      ]
     },
     "execution_count": 19,
     "metadata": {},
     "output_type": "execute_result"
    }
   ],
   "source": [
    "principalDf = pd.DataFrame(data = principalComponents\n",
    "             , columns = ['principal component 1', 'principal component 2'])\n",
    "principalDf.head()"
   ]
  },
  {
   "cell_type": "markdown",
   "metadata": {},
   "source": [
    "We then summarize these new PCA values in a dataframe, with 2 columns each containing information for a component. "
   ]
  },
  {
   "cell_type": "code",
   "execution_count": 70,
   "metadata": {},
   "outputs": [
    {
     "name": "stdout",
     "output_type": "stream",
     "text": [
      "<class 'pandas.core.frame.DataFrame'>\n",
      "RangeIndex: 671 entries, 0 to 670\n",
      "Data columns (total 2 columns):\n",
      "principal component 1    671 non-null float64\n",
      "principal component 2    671 non-null float64\n",
      "dtypes: float64(2)\n",
      "memory usage: 10.6 KB\n"
     ]
    }
   ],
   "source": [
    "principalDf.info()\n",
    "#sanity check to keep the same number of rows\n",
    "\n",
    "#finalDf = pd.concat([principalDf, word_vec_master[[0]]], axis = 1)\n",
    "#finalDf.head()\n",
    "#not sure why we need this https://towardsdatascience.com/pca-using-python-scikit-learn-e653f8989e60 "
   ]
  },
  {
   "cell_type": "code",
   "execution_count": 24,
   "metadata": {
    "scrolled": false
   },
   "outputs": [
    {
     "data": {
      "image/png": "[encoded data removed]",
      "text/plain": [
       "<Figure size 576x576 with 1 Axes>"
      ]
     },
     "metadata": {
      "needs_background": "light"
     },
     "output_type": "display_data"
    }
   ],
   "source": [
    "#plt.scatter(principalComponents[:,0], principalComponents[:,1])\n",
    "#plt.show()\n",
    "\n",
    "\n",
    "fig = plt.figure(figsize = (8,8))\n",
    "ax = fig.add_subplot(1,1,1) \n",
    "ax.set_xlabel('Principal Component 1', fontsize = 15)\n",
    "ax.set_ylabel('Principal Component 2', fontsize = 15)\n",
    "ax.set_title('2 component PCA', fontsize = 20)\n",
    "ax = plt.scatter(principalComponents[:,0], principalComponents[:,1])\n",
    "\n"
   ]
  },
  {
   "cell_type": "markdown",
   "metadata": {},
   "source": [
    "We then want to see the relationship between these 2 components by graphing them on a scatterplot. (https://seaborn.pydata.org/generated/seaborn.scatterplot.html). As we can see above, they now seem to have a positvely linear relationship, and a positive correlation. "
   ]
  },
  {
   "cell_type": "code",
   "execution_count": 21,
   "metadata": {},
   "outputs": [
    {
     "name": "stdout",
     "output_type": "stream",
     "text": [
      "[0.05978714 0.04133078]\n"
     ]
    }
   ],
   "source": [
    "print(pca.explained_variance_ratio_)"
   ]
  },
  {
   "cell_type": "markdown",
   "metadata": {},
   "source": [
    "Because PCA reduces the dimensionality of our data, we want to use the above code to determine how much variance we retain--from 300-d down to 2-D. For more information on explained variance, here's a helpful link https://stackoverflow.com/questions/32857029/python-scikit-learn-pca-explained-variance-ratio-cutoff"
   ]
  },
  {
   "cell_type": "code",
   "execution_count": 22,
   "metadata": {},
   "outputs": [],
   "source": [
    "# marker - code checked"
   ]
  },
  {
   "cell_type": "markdown",
   "metadata": {},
   "source": [
    "#### (5) Data Visualization\n",
    "\n",
    "One way to visualize these relationships is through t-SNE, which stands for t-Distributed Stochastic Neighbor Embedding. t-SNE is a techinique used fro dimensionality reduction, and that is useful when visualizing high-dimennsional datasets. (https://lvdmaaten.github.io/tsne/) \n",
    "\n",
    "According to the scikit-learn website, t-SNE is a tool \"converts similarities between data points to joint probabilities and tries to minimize the Kullback-Leibler divergence between the joint probabilities of the low-dimensional embedding and the high-dimensional data.\" (https://scikit-learn.org/stable/modules/generated/sklearn.manifold.TSNE.html) The documentation also mentioned that it is very useful to incorporate another dimensionality reduction method (e.g. PCA for dense data or TruncatedSVD for sparse data) to reduce the number of dimensions to a reasonable amount (e.g. 50) before using t-SNE if the number of features in our dataset is very high. Thus, earlier, to reduce features we used word embeddings and word averagings.\n",
    "\n",
    "**should i do TSNE"
   ]
  },
  {
   "cell_type": "code",
   "execution_count": 25,
   "metadata": {},
   "outputs": [],
   "source": [
    "#testing out what shes doing here... recheck with jeremie\n",
    "from sklearn.manifold import TSNE\n",
    "\n",
    "#model initialization\n",
    "tsne = TSNE(n_components = 2, init = 'random', random_state = 10, perplexity = 50)"
   ]
  },
  {
   "cell_type": "markdown",
   "metadata": {},
   "source": [
    "Here we are using TSNE with n_components = 2, meaning that we have 2 dimensions of embedded space. The initialization of the embedding that we're using is 'random', which, according to this article (https://arxiv.org/abs/1711.09160), does not really have any significant difference in the results--given that \"the variance is kept reasonably low.\" The perplexity that we used here is 50, which mean that this is the number of nearest neighbors used in multi-fold learning algorithms. We went with 50 because the official documentation suggested a value between 5 and 50 with larger datasets requiring larger perplexities."
   ]
  },
  {
   "cell_type": "code",
   "execution_count": 26,
   "metadata": {},
   "outputs": [
    {
     "data": {
      "text/plain": [
       "(671, 2)"
      ]
     },
     "execution_count": 26,
     "metadata": {},
     "output_type": "execute_result"
    }
   ],
   "source": [
    "# trasforming principal components\n",
    "#tsne_df = tsne.fit_transform(word_vec_master)\n",
    "tsne_df = tsne.fit_transform(principalComponents)\n",
    "#don't reallyy need to shorten the rows since we only have 671\n",
    "tsne_df.shape"
   ]
  },
  {
   "cell_type": "markdown",
   "metadata": {},
   "source": [
    "Next, we want to transform the word vectos using t-SNE. We use the fit_transform function to fit our *word_vec_master* dataset into an embedded space and return that transformed output. We see that we have a 2-dimensional array with 671 entries.\n",
    "\n",
    "Some helpful documentation that I used were the following:\n",
    "- https://stackoverflow.com/questions/50198409/how-to-apply-t-sne-on-word2vec-model\n",
    "- https://medium.com/@luckylwk/visualising-high-dimensional-datasets-using-pca-and-t-sne-in-python-8ef87e7915b t-SNE work on the MNIST dataset\n",
    "- https://www.programcreek.com/python/example/101756/sklearn.manifold.TSNE\n",
    "- https://colab.research.google.com/github/GokuMohandas/practicalAI/blob/master/notebooks/12_Embeddings.ipynb awesome content about word embeddings from one of my mentors \n",
    "- https://towardsdatascience.com/using-word2vec-to-analyze-news-headlines-and-predict-article-success-cdeda5f14751 a great Medium post by another SharpestMinds mentee\n",
    "- https://lvdmaaten.github.io/tsne/ \n",
    "- https://docs.scipy.org/doc/numpy-1.13.0/reference/generated/numpy.array.html Arrays and Np.shape\n",
    "- https://docs.scipy.org/doc/numpy/reference/generated/numpy.ndarray.shape.html\n"
   ]
  },
  {
   "cell_type": "code",
   "execution_count": 27,
   "metadata": {},
   "outputs": [
    {
     "data": {
      "image/png": "[encoded data removed]",
      "text/plain": [
       "<Figure size 842.4x595.44 with 1 Axes>"
      ]
     },
     "metadata": {},
     "output_type": "display_data"
    }
   ],
   "source": [
    "#using seaborn to visualize sentence relationships\n",
    "sns.set()\n",
    "\n",
    "fig, ax = plt.subplots(figsize = (11.7, 8.27))\n",
    "scatter1 = sns.scatterplot(tsne_df[:, 0], tsne_df[:, 1], alpha = 0.5)\n",
    "# not really understqnding what's happening here \n",
    "#are those outliers at the bottom? need to go into discussion w jeremie about this interpretation"
   ]
  },
  {
   "cell_type": "markdown",
   "metadata": {},
   "source": [
    "Afterwards, we want to visualize the relationship (both linear and non-linear) between our sentence/title entries. To do this, we'll use a seaborn scatterplot. (https://seaborn.pydata.org/generated/seaborn.scatterplot.html) \n",
    "\n",
    "Because we have 2 resulting dimensions, we want to visualize them by creating a scatterplot of their relationship. Note that these dimensions are the title from our dataset (could be one word or one sentence) and their similarity score to the data in the Google News corpus. \n",
    "\n",
    "*check with jeremie if this is right *"
   ]
  },
  {
   "cell_type": "code",
   "execution_count": 28,
   "metadata": {},
   "outputs": [],
   "source": [
    "#now we want to add labels to this, so use the package adjustText\n",
    "from adjustText import adjust_text"
   ]
  },
  {
   "cell_type": "code",
   "execution_count": 29,
   "metadata": {},
   "outputs": [],
   "source": [
    "#initialize the text box then create a loop that prints the 10th title\n",
    "\n",
    "sentence_titles = [] \n",
    "titles_for_plotting = list(np.arange(0, 700, 50))\n",
    "#we are plotting the 50th title in the first 700 titles"
   ]
  },
  {
   "cell_type": "code",
   "execution_count": 34,
   "metadata": {},
   "outputs": [
    {
     "data": {
      "image/png": "[encoded data removed]",
      "text/plain": [
       "<Figure size 2016x1440 with 1 Axes>"
      ]
     },
     "metadata": {},
     "output_type": "display_data"
    }
   ],
   "source": [
    "fig, ax = plt.subplots(figsize = (28, 20))\n",
    "sns.scatterplot(tsne_df[:, 0], tsne_df[:, 1], alpha = 0.5)\n",
    "\n",
    "#then we want to append each word to a list of words\n",
    "for title in titles_for_plotting: \n",
    "    sentence_titles.append(plt.text(tsne_df[title, 0], tsne_df[title, 1], filtered_word_list[title], fontsize = 12))\n",
    "    \n",
    "#should i be doing the above on filtered word list or on the pca-completed list?\n",
    "\n",
    "# we then want to plot these titles on the scatterplot\n",
    "adjust_text(sentence_titles, force_points = 0.4, force_text = 0.4, \n",
    "            expand_points = (2,1), expand_text = (1,2))\n",
    "            #arrowprops = dict(arrowstyle = \"-\", color = 'black', lw = 0.5))\n",
    "\n",
    "plt.show()\n",
    "    \n",
    "# filtered_word_list[title] --> which list should i use here? i tried dict, then i tried master_vector_list"
   ]
  },
  {
   "cell_type": "code",
   "execution_count": null,
   "metadata": {},
   "outputs": [],
   "source": []
  },
  {
   "cell_type": "markdown",
   "metadata": {},
   "source": [
    "****PSEUDOCODE \n",
    "\n",
    "\n",
    "def find_most_similar(input_doc_vec, docs_from_db_vec):\n",
    "    input_doc_vec = vectorize_document(clean)\n",
    "    docs_from_db_vec = vectorize_document(clean)\n",
    "    #would these 2 be the same now? since we only have one dataset that hasn't been split into training/testing?\n",
    "    docs_with_ranks = []\n",
    "    for db_doc_vec in docs_from_db_vec: \n",
    "        similarity = np.dot(input_doc_vec, db_doc_vec)\n",
    "        docs_with_ranks += [(similarity, docs_db_vec)] \n",
    "    return sort_by_similarity(docs_with_ranks)\n",
    "\n",
    "\n",
    "def process_new_document(document): \n",
    "    ```document: a raw document that the user provides```\n",
    "        cleaned_document = clean_raw_document(document)\n",
    "        vectorized_document = vectorize_document(cleaned_document)\n",
    "        docs_from_db_vec = load_from_db(filepath_to_csv_or_db)\n",
    "        save(vectorized_document, filepath_to_csv_or_db) <- might be a bit more complicated, since you’ll want to save it into a table along with the other document vectors that your users have input earlier, along with an index of some kind that lets you look the vector up\n",
    "        sorted_documents = find_most_similar(vectorized_document, docs_from_db_vec)\n",
    "\n",
    "    return sorted_documents\n"
   ]
  },
  {
   "cell_type": "code",
   "execution_count": null,
   "metadata": {},
   "outputs": [],
   "source": []
  },
  {
   "cell_type": "code",
   "execution_count": null,
   "metadata": {},
   "outputs": [],
   "source": []
  },
  {
   "cell_type": "code",
   "execution_count": null,
   "metadata": {},
   "outputs": [],
   "source": []
  },
  {
   "cell_type": "code",
   "execution_count": null,
   "metadata": {},
   "outputs": [],
   "source": []
  },
  {
   "cell_type": "code",
   "execution_count": null,
   "metadata": {},
   "outputs": [],
   "source": []
  },
  {
   "cell_type": "code",
   "execution_count": null,
   "metadata": {},
   "outputs": [],
   "source": []
  },
  {
   "cell_type": "code",
   "execution_count": null,
   "metadata": {},
   "outputs": [],
   "source": []
  },
  {
   "cell_type": "code",
   "execution_count": null,
   "metadata": {},
   "outputs": [],
   "source": []
  },
  {
   "cell_type": "code",
   "execution_count": null,
   "metadata": {},
   "outputs": [],
   "source": []
  },
  {
   "cell_type": "code",
   "execution_count": null,
   "metadata": {},
   "outputs": [],
   "source": []
  },
  {
   "cell_type": "code",
   "execution_count": null,
   "metadata": {},
   "outputs": [],
   "source": []
  },
  {
   "cell_type": "code",
   "execution_count": null,
   "metadata": {},
   "outputs": [],
   "source": []
  },
  {
   "cell_type": "code",
   "execution_count": null,
   "metadata": {},
   "outputs": [],
   "source": []
  }
 ],
 "metadata": {
  "kernelspec": {
   "display_name": "Python 3",
   "language": "python",
   "name": "python3"
  },
  "language_info": {
   "codemirror_mode": {
    "name": "ipython",
    "version": 3
   },
   "file_extension": ".py",
   "mimetype": "text/x-python",
   "name": "python",
   "nbconvert_exporter": "python",
   "pygments_lexer": "ipython3",
   "version": "3.7.1"
  }
 },
 "nbformat": 4,
 "nbformat_minor": 2
}

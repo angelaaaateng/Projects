{
 "cells": [
  {
   "cell_type": "markdown",
   "metadata": {},
   "source": [
    "## Recommender System - Marketplace Matching\n",
    "\n",
    "In this notebook, we will: \n",
    "- Clean textual data from user-input verbatim posts\n",
    "- Use a Word2Vec model to calculate document similarities \n",
    "- Sort the most similar user input to our training data in order to recommend similar products \n",
    "- Save this model in a format that allows us to refresh the testing data"
   ]
  },
  {
   "cell_type": "markdown",
   "metadata": {},
   "source": [
    "### Data Collection and Preprocessing"
   ]
  },
  {
   "cell_type": "code",
   "execution_count": 1,
   "metadata": {},
   "outputs": [],
   "source": [
    "#Importing Libraries\n",
    "import numpy as np\n",
    "import pandas as pd\n",
    "\n",
    "import sys\n",
    "from pandas import DataFrame\n",
    "\n",
    "import json\n",
    "from pandas.io.json import json_normalize\n",
    "import csv\n",
    "\n",
    "import matplotlib.pyplot as plt\n",
    "%matplotlib inline \n",
    "from matplotlib import colors\n",
    "from matplotlib.ticker import PercentFormatter\n",
    "\n",
    "from gensim import corpora\n",
    "from collections import defaultdict\n",
    "from pprint import pprint\n",
    "\n",
    "from gensim.models.word2vec import Word2Vec\n",
    "from gensim.test.utils import common_texts, get_tmpfile\n",
    "\n",
    "from gensim.models.doc2vec import Doc2Vec, TaggedDocument\n",
    "from gensim.test.utils import common_texts\n",
    "\n",
    "import re\n",
    "from sklearn.feature_extraction.text import CountVectorizer\n",
    "\n",
    "import nltk\n",
    "from nltk.corpus import stopwords\n",
    "from nltk.tokenize import word_tokenize \n",
    "\n",
    "import gensim \n",
    "from gensim.models import KeyedVectors\n",
    "import gensim.downloader as api\n",
    "\n",
    "from operator import itemgetter, attrgetter\n",
    "\n",
    "from gensim.models.doc2vec import Doc2Vec\n",
    "\n",
    "import os, sys\n",
    "\n",
    "from operator import add\n",
    "\n",
    "from sklearn.preprocessing import normalize\n",
    "\n",
    "import seaborn as sns"
   ]
  },
  {
   "cell_type": "code",
   "execution_count": 2,
   "metadata": {},
   "outputs": [
    {
     "data": {
      "text/html": [
       "<div>\n",
       "<style scoped>\n",
       "    .dataframe tbody tr th:only-of-type {\n",
       "        vertical-align: middle;\n",
       "    }\n",
       "\n",
       "    .dataframe tbody tr th {\n",
       "        vertical-align: top;\n",
       "    }\n",
       "\n",
       "    .dataframe thead th {\n",
       "        text-align: right;\n",
       "    }\n",
       "</style>\n",
       "<table border=\"1\" class=\"dataframe\">\n",
       "  <thead>\n",
       "    <tr style=\"text-align: right;\">\n",
       "      <th></th>\n",
       "      <th>archivedStatus</th>\n",
       "      <th>address__components__city</th>\n",
       "      <th>address__components__country</th>\n",
       "      <th>address__components__county</th>\n",
       "      <th>address__components__number</th>\n",
       "      <th>address__components__premise</th>\n",
       "      <th>address__components__state</th>\n",
       "      <th>address__components__street</th>\n",
       "      <th>address__components__zip_code</th>\n",
       "      <th>address__formatted</th>\n",
       "      <th>...</th>\n",
       "      <th>photos__001</th>\n",
       "      <th>photos__002</th>\n",
       "      <th>photos__003</th>\n",
       "      <th>photos__004</th>\n",
       "      <th>post_type</th>\n",
       "      <th>price</th>\n",
       "      <th>price_type</th>\n",
       "      <th>status</th>\n",
       "      <th>title</th>\n",
       "      <th>visibility</th>\n",
       "    </tr>\n",
       "  </thead>\n",
       "  <tbody>\n",
       "    <tr>\n",
       "      <th>0</th>\n",
       "      <td>NaN</td>\n",
       "      <td>Providence</td>\n",
       "      <td>US</td>\n",
       "      <td>Providence County</td>\n",
       "      <td>158</td>\n",
       "      <td>NaN</td>\n",
       "      <td>RI</td>\n",
       "      <td>University Ave</td>\n",
       "      <td>2906.0</td>\n",
       "      <td>158 University Ave, Providence, RI 02906, USA</td>\n",
       "      <td>...</td>\n",
       "      <td>NaN</td>\n",
       "      <td>NaN</td>\n",
       "      <td>NaN</td>\n",
       "      <td>NaN</td>\n",
       "      <td>request</td>\n",
       "      <td>25.0</td>\n",
       "      <td>flexible</td>\n",
       "      <td>legacy</td>\n",
       "      <td>Teach Me How To Cook!</td>\n",
       "      <td>public</td>\n",
       "    </tr>\n",
       "    <tr>\n",
       "      <th>1</th>\n",
       "      <td>NaN</td>\n",
       "      <td>Providence</td>\n",
       "      <td>US</td>\n",
       "      <td>Providence County</td>\n",
       "      <td>157</td>\n",
       "      <td>NaN</td>\n",
       "      <td>RI</td>\n",
       "      <td>University Ave</td>\n",
       "      <td>2906.0</td>\n",
       "      <td>157 University Ave, Providence, RI 02906, USA</td>\n",
       "      <td>...</td>\n",
       "      <td>NaN</td>\n",
       "      <td>NaN</td>\n",
       "      <td>NaN</td>\n",
       "      <td>NaN</td>\n",
       "      <td>offering</td>\n",
       "      <td>15.0</td>\n",
       "      <td>flexible</td>\n",
       "      <td>legacy</td>\n",
       "      <td>Long Boarding Lessons</td>\n",
       "      <td>public</td>\n",
       "    </tr>\n",
       "    <tr>\n",
       "      <th>2</th>\n",
       "      <td>NaN</td>\n",
       "      <td>Providence</td>\n",
       "      <td>US</td>\n",
       "      <td>Providence County</td>\n",
       "      <td>233</td>\n",
       "      <td>NaN</td>\n",
       "      <td>RI</td>\n",
       "      <td>Hope St</td>\n",
       "      <td>2906.0</td>\n",
       "      <td>233 Hope St, Providence, RI 02906, USA</td>\n",
       "      <td>...</td>\n",
       "      <td>NaN</td>\n",
       "      <td>NaN</td>\n",
       "      <td>NaN</td>\n",
       "      <td>NaN</td>\n",
       "      <td>request</td>\n",
       "      <td>15.0</td>\n",
       "      <td>flexible</td>\n",
       "      <td>legacy</td>\n",
       "      <td>Personal Trainer</td>\n",
       "      <td>public</td>\n",
       "    </tr>\n",
       "    <tr>\n",
       "      <th>3</th>\n",
       "      <td>NaN</td>\n",
       "      <td>Providence</td>\n",
       "      <td>US</td>\n",
       "      <td>Providence County</td>\n",
       "      <td>152</td>\n",
       "      <td>NaN</td>\n",
       "      <td>RI</td>\n",
       "      <td>University Ave</td>\n",
       "      <td>2906.0</td>\n",
       "      <td>152 University Ave, Providence, RI 02906, USA</td>\n",
       "      <td>...</td>\n",
       "      <td>NaN</td>\n",
       "      <td>NaN</td>\n",
       "      <td>NaN</td>\n",
       "      <td>NaN</td>\n",
       "      <td>offering</td>\n",
       "      <td>15.0</td>\n",
       "      <td>flexible</td>\n",
       "      <td>legacy</td>\n",
       "      <td>Final Cut Pro Lesson</td>\n",
       "      <td>public</td>\n",
       "    </tr>\n",
       "    <tr>\n",
       "      <th>4</th>\n",
       "      <td>NaN</td>\n",
       "      <td>Providence</td>\n",
       "      <td>US</td>\n",
       "      <td>Providence County</td>\n",
       "      <td>184</td>\n",
       "      <td>Prince Engineering Laboratory</td>\n",
       "      <td>RI</td>\n",
       "      <td>Hope St</td>\n",
       "      <td>2912.0</td>\n",
       "      <td>Prince Engineering Laboratory, 184 Hope St, Pr...</td>\n",
       "      <td>...</td>\n",
       "      <td>NaN</td>\n",
       "      <td>NaN</td>\n",
       "      <td>NaN</td>\n",
       "      <td>NaN</td>\n",
       "      <td>offering</td>\n",
       "      <td>15.0</td>\n",
       "      <td>set_price</td>\n",
       "      <td>legacy</td>\n",
       "      <td>Resume Building</td>\n",
       "      <td>public</td>\n",
       "    </tr>\n",
       "  </tbody>\n",
       "</table>\n",
       "<p>5 rows × 105 columns</p>\n",
       "</div>"
      ],
      "text/plain": [
       "  archivedStatus address__components__city address__components__country  \\\n",
       "0            NaN                Providence                           US   \n",
       "1            NaN                Providence                           US   \n",
       "2            NaN                Providence                           US   \n",
       "3            NaN                Providence                           US   \n",
       "4            NaN                Providence                           US   \n",
       "\n",
       "  address__components__county address__components__number  \\\n",
       "0           Providence County                         158   \n",
       "1           Providence County                         157   \n",
       "2           Providence County                         233   \n",
       "3           Providence County                         152   \n",
       "4           Providence County                         184   \n",
       "\n",
       "    address__components__premise address__components__state  \\\n",
       "0                            NaN                         RI   \n",
       "1                            NaN                         RI   \n",
       "2                            NaN                         RI   \n",
       "3                            NaN                         RI   \n",
       "4  Prince Engineering Laboratory                         RI   \n",
       "\n",
       "  address__components__street  address__components__zip_code  \\\n",
       "0              University Ave                         2906.0   \n",
       "1              University Ave                         2906.0   \n",
       "2                     Hope St                         2906.0   \n",
       "3              University Ave                         2906.0   \n",
       "4                     Hope St                         2912.0   \n",
       "\n",
       "                                  address__formatted    ...     photos__001  \\\n",
       "0      158 University Ave, Providence, RI 02906, USA    ...             NaN   \n",
       "1      157 University Ave, Providence, RI 02906, USA    ...             NaN   \n",
       "2             233 Hope St, Providence, RI 02906, USA    ...             NaN   \n",
       "3      152 University Ave, Providence, RI 02906, USA    ...             NaN   \n",
       "4  Prince Engineering Laboratory, 184 Hope St, Pr...    ...             NaN   \n",
       "\n",
       "  photos__002 photos__003 photos__004 post_type  price price_type  status  \\\n",
       "0         NaN         NaN         NaN   request   25.0   flexible  legacy   \n",
       "1         NaN         NaN         NaN  offering   15.0   flexible  legacy   \n",
       "2         NaN         NaN         NaN   request   15.0   flexible  legacy   \n",
       "3         NaN         NaN         NaN  offering   15.0   flexible  legacy   \n",
       "4         NaN         NaN         NaN  offering   15.0  set_price  legacy   \n",
       "\n",
       "                   title visibility  \n",
       "0  Teach Me How To Cook!     public  \n",
       "1  Long Boarding Lessons     public  \n",
       "2       Personal Trainer     public  \n",
       "3   Final Cut Pro Lesson     public  \n",
       "4        Resume Building     public  \n",
       "\n",
       "[5 rows x 105 columns]"
      ]
     },
     "execution_count": 2,
     "metadata": {},
     "output_type": "execute_result"
    }
   ],
   "source": [
    "#Preprocessing and reading the data\n",
    "allposts = pd.read_csv(\"allPostData.csv\", header=0)\n",
    "allposts.head()"
   ]
  },
  {
   "cell_type": "code",
   "execution_count": 36,
   "metadata": {},
   "outputs": [
    {
     "name": "stdout",
     "output_type": "stream",
     "text": [
      "<class 'pandas.core.frame.DataFrame'>\n",
      "RangeIndex: 811 entries, 0 to 810\n",
      "Data columns (total 2 columns):\n",
      "description    811 non-null object\n",
      "title          811 non-null object\n",
      "dtypes: object(2)\n",
      "memory usage: 12.8+ KB\n"
     ]
    },
    {
     "data": {
      "text/html": [
       "<div>\n",
       "<style scoped>\n",
       "    .dataframe tbody tr th:only-of-type {\n",
       "        vertical-align: middle;\n",
       "    }\n",
       "\n",
       "    .dataframe tbody tr th {\n",
       "        vertical-align: top;\n",
       "    }\n",
       "\n",
       "    .dataframe thead th {\n",
       "        text-align: right;\n",
       "    }\n",
       "</style>\n",
       "<table border=\"1\" class=\"dataframe\">\n",
       "  <thead>\n",
       "    <tr style=\"text-align: right;\">\n",
       "      <th></th>\n",
       "      <th>description</th>\n",
       "      <th>title</th>\n",
       "    </tr>\n",
       "  </thead>\n",
       "  <tbody>\n",
       "    <tr>\n",
       "      <th>0</th>\n",
       "      <td>I'm trying to broaden the repertoire of culina...</td>\n",
       "      <td>Teach Me How To Cook!</td>\n",
       "    </tr>\n",
       "    <tr>\n",
       "      <th>1</th>\n",
       "      <td>I teach you how to ride. It's an incredibly fu...</td>\n",
       "      <td>Long Boarding Lessons</td>\n",
       "    </tr>\n",
       "    <tr>\n",
       "      <th>2</th>\n",
       "      <td>Looking for someone to motivate and guide me i...</td>\n",
       "      <td>Personal Trainer</td>\n",
       "    </tr>\n",
       "    <tr>\n",
       "      <th>3</th>\n",
       "      <td>I have 10 years experience editing videos usin...</td>\n",
       "      <td>Final Cut Pro Lesson</td>\n",
       "    </tr>\n",
       "    <tr>\n",
       "      <th>4</th>\n",
       "      <td>Let me help you build a resume. I've worked ev...</td>\n",
       "      <td>Resume Building</td>\n",
       "    </tr>\n",
       "    <tr>\n",
       "      <th>5</th>\n",
       "      <td>Everyday is an opportunity to do something inc...</td>\n",
       "      <td>Motivational Pep Talk</td>\n",
       "    </tr>\n",
       "    <tr>\n",
       "      <th>6</th>\n",
       "      <td>I've completed 400+ job applications over the ...</td>\n",
       "      <td>Resume + Cover Letter</td>\n",
       "    </tr>\n",
       "    <tr>\n",
       "      <th>7</th>\n",
       "      <td>Handmade (by me!) paracord bracelet, similar t...</td>\n",
       "      <td>Paracord Bracelet</td>\n",
       "    </tr>\n",
       "    <tr>\n",
       "      <th>8</th>\n",
       "      <td>I'll help you with shooting, editing, sound mi...</td>\n",
       "      <td>Video Production</td>\n",
       "    </tr>\n",
       "    <tr>\n",
       "      <th>9</th>\n",
       "      <td>Interested in consulting or business? Come pra...</td>\n",
       "      <td>Consulting Cases</td>\n",
       "    </tr>\n",
       "    <tr>\n",
       "      <th>10</th>\n",
       "      <td>Hello! I would love to learn SAS/SQL. Let me k...</td>\n",
       "      <td>SAS / SQL Tutor</td>\n",
       "    </tr>\n",
       "    <tr>\n",
       "      <th>11</th>\n",
       "      <td>From shooting, to editing, to audio mixing I'm...</td>\n",
       "      <td>Video Production</td>\n",
       "    </tr>\n",
       "    <tr>\n",
       "      <th>12</th>\n",
       "      <td>You need to learn guitar to woo your lover. Le...</td>\n",
       "      <td>Guitar Lessons</td>\n",
       "    </tr>\n",
       "    <tr>\n",
       "      <th>13</th>\n",
       "      <td>Willing to take on any photography projects!</td>\n",
       "      <td>Photography / Portraits</td>\n",
       "    </tr>\n",
       "    <tr>\n",
       "      <th>14</th>\n",
       "      <td>Your tinder profile is not what it could be. L...</td>\n",
       "      <td>Help Your Tinder Profile</td>\n",
       "    </tr>\n",
       "    <tr>\n",
       "      <th>15</th>\n",
       "      <td>Do you want your bae to know how much you love...</td>\n",
       "      <td>Custom Love Song 😍😍😍</td>\n",
       "    </tr>\n",
       "    <tr>\n",
       "      <th>16</th>\n",
       "      <td>Looking for a workout partner who would join m...</td>\n",
       "      <td>Gym Buddy</td>\n",
       "    </tr>\n",
       "    <tr>\n",
       "      <th>17</th>\n",
       "      <td>Feeling down or unmotivated? Hit me up!! I wil...</td>\n",
       "      <td>Personal Cheerleader</td>\n",
       "    </tr>\n",
       "    <tr>\n",
       "      <th>18</th>\n",
       "      <td>Fan works perfectly fine.</td>\n",
       "      <td>Fan</td>\n",
       "    </tr>\n",
       "    <tr>\n",
       "      <th>19</th>\n",
       "      <td>Helps you figure out CS problems. Great listen...</td>\n",
       "      <td>Lil Ducky</td>\n",
       "    </tr>\n",
       "    <tr>\n",
       "      <th>20</th>\n",
       "      <td>I’ll teach you how to ride.  On college hill.</td>\n",
       "      <td>Snowboarding Lessons</td>\n",
       "    </tr>\n",
       "    <tr>\n",
       "      <th>21</th>\n",
       "      <td>Never used. Works perfectly. Approximately 20$...</td>\n",
       "      <td>Bed Bath &amp; Beyond Drawers</td>\n",
       "    </tr>\n",
       "    <tr>\n",
       "      <th>22</th>\n",
       "      <td>I can teach u math!</td>\n",
       "      <td>Math Tutor</td>\n",
       "    </tr>\n",
       "    <tr>\n",
       "      <th>23</th>\n",
       "      <td>3 Head lamp. Bulbs included! Works perfectly</td>\n",
       "      <td>3 Head Lamp</td>\n",
       "    </tr>\n",
       "    <tr>\n",
       "      <th>24</th>\n",
       "      <td>I build cutting-edge websites for startups, po...</td>\n",
       "      <td>Web Development</td>\n",
       "    </tr>\n",
       "    <tr>\n",
       "      <th>25</th>\n",
       "      <td>Rice cooker. Works fine. Just need to get it o...</td>\n",
       "      <td>Rice Cooking Pot</td>\n",
       "    </tr>\n",
       "    <tr>\n",
       "      <th>26</th>\n",
       "      <td>Five-time startup employee + founded 2 startup...</td>\n",
       "      <td>Get A Startup Job</td>\n",
       "    </tr>\n",
       "    <tr>\n",
       "      <th>27</th>\n",
       "      <td>140$ tennis racket for sale! Head tennis racke...</td>\n",
       "      <td>Tennis Racket</td>\n",
       "    </tr>\n",
       "    <tr>\n",
       "      <th>28</th>\n",
       "      <td>Alarm clock. Works perfectly. Try not to snooz...</td>\n",
       "      <td>Alarm Clock / Clock</td>\n",
       "    </tr>\n",
       "    <tr>\n",
       "      <th>29</th>\n",
       "      <td>Orgo kit</td>\n",
       "      <td>Orgo Kit</td>\n",
       "    </tr>\n",
       "  </tbody>\n",
       "</table>\n",
       "</div>"
      ],
      "text/plain": [
       "                                          description  \\\n",
       "0   I'm trying to broaden the repertoire of culina...   \n",
       "1   I teach you how to ride. It's an incredibly fu...   \n",
       "2   Looking for someone to motivate and guide me i...   \n",
       "3   I have 10 years experience editing videos usin...   \n",
       "4   Let me help you build a resume. I've worked ev...   \n",
       "5   Everyday is an opportunity to do something inc...   \n",
       "6   I've completed 400+ job applications over the ...   \n",
       "7   Handmade (by me!) paracord bracelet, similar t...   \n",
       "8   I'll help you with shooting, editing, sound mi...   \n",
       "9   Interested in consulting or business? Come pra...   \n",
       "10  Hello! I would love to learn SAS/SQL. Let me k...   \n",
       "11  From shooting, to editing, to audio mixing I'm...   \n",
       "12  You need to learn guitar to woo your lover. Le...   \n",
       "13       Willing to take on any photography projects!   \n",
       "14  Your tinder profile is not what it could be. L...   \n",
       "15  Do you want your bae to know how much you love...   \n",
       "16  Looking for a workout partner who would join m...   \n",
       "17  Feeling down or unmotivated? Hit me up!! I wil...   \n",
       "18                         Fan works perfectly fine.    \n",
       "19  Helps you figure out CS problems. Great listen...   \n",
       "20      I’ll teach you how to ride.  On college hill.   \n",
       "21  Never used. Works perfectly. Approximately 20$...   \n",
       "22                                I can teach u math!   \n",
       "23       3 Head lamp. Bulbs included! Works perfectly   \n",
       "24  I build cutting-edge websites for startups, po...   \n",
       "25  Rice cooker. Works fine. Just need to get it o...   \n",
       "26  Five-time startup employee + founded 2 startup...   \n",
       "27  140$ tennis racket for sale! Head tennis racke...   \n",
       "28  Alarm clock. Works perfectly. Try not to snooz...   \n",
       "29                                           Orgo kit   \n",
       "\n",
       "                        title  \n",
       "0       Teach Me How To Cook!  \n",
       "1       Long Boarding Lessons  \n",
       "2            Personal Trainer  \n",
       "3        Final Cut Pro Lesson  \n",
       "4             Resume Building  \n",
       "5       Motivational Pep Talk  \n",
       "6      Resume + Cover Letter   \n",
       "7           Paracord Bracelet  \n",
       "8           Video Production   \n",
       "9            Consulting Cases  \n",
       "10            SAS / SQL Tutor  \n",
       "11          Video Production   \n",
       "12             Guitar Lessons  \n",
       "13    Photography / Portraits  \n",
       "14   Help Your Tinder Profile  \n",
       "15       Custom Love Song 😍😍😍  \n",
       "16                  Gym Buddy  \n",
       "17       Personal Cheerleader  \n",
       "18                        Fan  \n",
       "19                  Lil Ducky  \n",
       "20       Snowboarding Lessons  \n",
       "21  Bed Bath & Beyond Drawers  \n",
       "22                 Math Tutor  \n",
       "23                3 Head Lamp  \n",
       "24            Web Development  \n",
       "25           Rice Cooking Pot  \n",
       "26          Get A Startup Job  \n",
       "27              Tennis Racket  \n",
       "28        Alarm Clock / Clock  \n",
       "29                   Orgo Kit  "
      ]
     },
     "execution_count": 36,
     "metadata": {},
     "output_type": "execute_result"
    }
   ],
   "source": [
    "# only select relevant columns --> post titles and descriptions\n",
    "allposts = allposts[['description', 'title']]\n",
    "allposts.info()\n",
    "allposts.shape\n",
    "allposts[:30]"
   ]
  },
  {
   "cell_type": "code",
   "execution_count": 41,
   "metadata": {},
   "outputs": [
    {
     "data": {
      "text/plain": [
       "0     Teach Me How To Cook!\n",
       "1     Long Boarding Lessons\n",
       "2          Personal Trainer\n",
       "3      Final Cut Pro Lesson\n",
       "4           Resume Building\n",
       "5     Motivational Pep Talk\n",
       "6    Resume + Cover Letter \n",
       "7         Paracord Bracelet\n",
       "8         Video Production \n",
       "9          Consulting Cases\n",
       "Name: title, dtype: object"
      ]
     },
     "execution_count": 41,
     "metadata": {},
     "output_type": "execute_result"
    }
   ],
   "source": [
    "#take all the post titles\n",
    "titles = allposts['title']\n",
    "titles[:10]\n",
    "\n",
    "#if it is an object, does that mean it's a list of strings?"
   ]
  },
  {
   "cell_type": "code",
   "execution_count": 42,
   "metadata": {},
   "outputs": [
    {
     "data": {
      "text/plain": [
       "['Teach Me How To Cook!',\n",
       " 'Long Boarding Lessons',\n",
       " 'Personal Trainer',\n",
       " 'Final Cut Pro Lesson',\n",
       " 'Resume Building',\n",
       " 'Motivational Pep Talk',\n",
       " 'Resume + Cover Letter ',\n",
       " 'Paracord Bracelet',\n",
       " 'Video Production ',\n",
       " 'Consulting Cases']"
      ]
     },
     "execution_count": 42,
     "metadata": {},
     "output_type": "execute_result"
    }
   ],
   "source": [
    "#Create a list of strings comprised of different title names\n",
    "post_titles = [title for title in titles]\n",
    "post_titles[:10]"
   ]
  },
  {
   "cell_type": "code",
   "execution_count": 43,
   "metadata": {},
   "outputs": [
    {
     "data": {
      "text/plain": [
       "[['teach', 'me', 'how', 'to', 'cook!'],\n",
       " ['long', 'boarding', 'lessons'],\n",
       " ['personal', 'trainer'],\n",
       " ['final', 'cut', 'pro', 'lesson'],\n",
       " ['resume', 'building'],\n",
       " ['motivational', 'pep', 'talk'],\n",
       " ['resume', '+', 'cover', 'letter'],\n",
       " ['paracord', 'bracelet'],\n",
       " ['video', 'production'],\n",
       " ['consulting', 'cases']]"
      ]
     },
     "execution_count": 43,
     "metadata": {},
     "output_type": "execute_result"
    }
   ],
   "source": [
    "#for each string of post titles in the list, tokenize the string into words\n",
    "tokens = [[word for word in title.lower().split()] for title in post_titles]\n",
    "tokens[:10]"
   ]
  },
  {
   "cell_type": "code",
   "execution_count": 44,
   "metadata": {},
   "outputs": [
    {
     "data": {
      "text/plain": [
       "[['teach', 'me', 'how', 'to'],\n",
       " ['long', 'boarding', 'lessons'],\n",
       " ['personal', 'trainer'],\n",
       " ['final', 'cut', 'pro', 'lesson'],\n",
       " ['resume', 'building'],\n",
       " ['motivational', 'pep', 'talk'],\n",
       " ['resume', 'cover', 'letter'],\n",
       " ['paracord', 'bracelet'],\n",
       " ['video', 'production'],\n",
       " ['consulting', 'cases']]"
      ]
     },
     "execution_count": 44,
     "metadata": {},
     "output_type": "execute_result"
    }
   ],
   "source": [
    "#Remove punctuationi and non-alphanumeric tokens including emojis \n",
    "clean_words = [[word for word in title if word.isalpha()] for title in tokens]\n",
    "clean_words[:10]"
   ]
  },
  {
   "cell_type": "markdown",
   "metadata": {},
   "source": [
    "### Data Cleaning"
   ]
  },
  {
   "cell_type": "markdown",
   "metadata": {},
   "source": [
    "#### (1) Define a function that takes in a list of strings and cleans it up\n",
    "First, we need to clean up our text."
   ]
  },
  {
   "cell_type": "code",
   "execution_count": 8,
   "metadata": {},
   "outputs": [
    {
     "name": "stdout",
     "output_type": "stream",
     "text": [
      "{'then', 'they', 'me', \"don't\", 'against', 'under', 'o', 'at', 'ours', 'while', 'after', 'an', \"shan't\", 'aren', 'through', 'few', 'than', 'ma', 'yourself', \"should've\", 'as', 'do', 'any', 'to', \"it's\", 'of', 'very', 'doesn', 'you', 'be', 'we', 'them', 'shan', 'this', 'does', 'who', 'm', 'am', 's', 'or', 'own', 'she', 'don', 'he', \"needn't\", 'was', 'these', 'being', \"weren't\", 'when', 'down', 'such', 'into', 'needn', 'didn', 'wasn', 'shouldn', 'our', 'him', \"she's\", 'which', 'why', 'yourselves', 'because', 'your', 'should', 'has', 'll', 'themselves', 'i', 'all', \"couldn't\", 'ain', 'but', 'just', 'herself', 'mustn', 'itself', 'y', 'only', 'if', 'were', 'isn', 'for', 'mightn', \"mustn't\", \"you'd\", 'my', \"wasn't\", 'on', 'hers', 'is', 'further', 'most', 'are', 'had', 'd', 'now', 'where', 'both', 'hadn', \"haven't\", 'once', 't', 'it', 'theirs', 'been', 'hasn', 'did', 'himself', 'too', 'ourselves', 'about', 'can', 've', \"wouldn't\", 'during', 'will', 'having', 'not', 'up', 'how', 'below', \"isn't\", 'a', 'myself', \"you're\", 'yours', \"that'll\", 'in', 'from', 'that', 'and', \"doesn't\", 'haven', 'no', 'between', 'other', 'the', 'until', 'couldn', 'again', 'each', 're', \"mightn't\", \"you'll\", 'nor', \"you've\", 'wouldn', 'off', \"won't\", 'those', 'her', \"hadn't\", 'doing', 'with', 'before', 'what', 'by', 'over', 'more', 'its', \"shouldn't\", 'their', 'whom', 'some', 'there', 'above', 'have', \"hasn't\", 'won', \"didn't\", 'here', 'his', 'weren', 'out', 'so', 'same', \"aren't\"}\n"
     ]
    },
    {
     "data": {
      "text/plain": [
       "[['teach'],\n",
       " ['long', 'boarding', 'lessons'],\n",
       " ['personal', 'trainer'],\n",
       " ['final', 'cut', 'pro', 'lesson'],\n",
       " ['resume', 'building'],\n",
       " ['motivational', 'pep', 'talk'],\n",
       " ['resume', 'cover', 'letter'],\n",
       " ['paracord', 'bracelet'],\n",
       " ['video', 'production'],\n",
       " ['consulting', 'cases'],\n",
       " ['sas', 'sql', 'tutor'],\n",
       " ['video', 'production'],\n",
       " ['guitar', 'lessons'],\n",
       " ['photography', 'portraits'],\n",
       " ['help', 'tinder', 'profile'],\n",
       " ['custom', 'love', 'song'],\n",
       " ['gym', 'buddy'],\n",
       " ['personal', 'cheerleader'],\n",
       " ['fan'],\n",
       " ['lil', 'ducky'],\n",
       " ['snowboarding', 'lessons'],\n",
       " ['bed', 'bath', 'beyond', 'drawers'],\n",
       " ['math', 'tutor'],\n",
       " ['head', 'lamp'],\n",
       " ['web', 'development'],\n",
       " ['rice', 'cooking', 'pot'],\n",
       " ['get', 'startup', 'job'],\n",
       " ['tennis', 'racket'],\n",
       " ['alarm', 'clock', 'clock'],\n",
       " ['orgo', 'kit']]"
      ]
     },
     "execution_count": 8,
     "metadata": {},
     "output_type": "execute_result"
    }
   ],
   "source": [
    "#identify a list of stopwords then remove words in stoplist from post titles\n",
    "stoplist = set(stopwords.words('english'))\n",
    "titles_nostopwords = [[word for word in title if word not in stoplist] for title in clean_words]\n",
    "print(stoplist)\n",
    "#print(titles_nostopwords)\n",
    "titles_nostopwords[:30]"
   ]
  },
  {
   "cell_type": "markdown",
   "metadata": {},
   "source": [
    "**\"titles_nostopwords\"** is now our cleaned up document, containing the data from our users. As seen above, it is still a list of lists--in other words, a nested list of strings, with each string representing a word."
   ]
  },
  {
   "cell_type": "markdown",
   "metadata": {},
   "source": [
    "#### (2) Vectorize the document \n",
    "Then, we need to take all the titles in the data, and vectorize each word using the large Google trained model which we've just loaded.\n",
    "\n",
    "The RaRe Technologies (https://github.com/RaRe-Technologies/gensim-data) website describes the dataset as: \"Pre-trained vectors trained on a part of the Google News dataset (about 100 billion words). The model contains 300-dimensional vectors for 3 million words and phrases. The phrases were obtained using a simple data-driven approach described in 'Distributed Representations of Words and Phrases and their Compositionality' (https://code.google.com/archive/p/word2vec/).\""
   ]
  },
  {
   "cell_type": "code",
   "execution_count": 9,
   "metadata": {},
   "outputs": [],
   "source": [
    "#Load pre-trained Word2Vec model based on the Google corpus (https://s3.amazonaws.com/dl4j-distribution/GoogleNews-vectors-negative300.bin.gz)\n",
    "#import warnings\n",
    "#warnings.filterwarnings(action='ignore', category=UserWarning, module='gensim')\n",
    "model = gensim.models.KeyedVectors.load_word2vec_format('GoogleNews-vectors-negative300.bin', binary = True) \n"
   ]
  },
  {
   "cell_type": "code",
   "execution_count": 10,
   "metadata": {},
   "outputs": [
    {
     "name": "stdout",
     "output_type": "stream",
     "text": [
      "300\n",
      "<gensim.models.keyedvectors.Word2VecKeyedVectors object at 0x1a1e78bf60>\n"
     ]
    }
   ],
   "source": [
    "#sanity check \n",
    "#model.shape\n",
    "\n",
    "# Check dimension of word vectors and info about the model\n",
    "print(model.vector_size)\n",
    "print(model)"
   ]
  },
  {
   "cell_type": "markdown",
   "metadata": {
    "scrolled": true
   },
   "source": [
    "The 300 dimensions is significant here because it tells us that the model generates 300-D word vectors. The \"Word Vector Dimension\" is the dimension of the vector that has been trained by Google using their news data. The industry norm is to use 300-500 D sized vectors because research has shown that there hasn't been significant performance improvement after 300-400, although this depends on the dataset. Note that word vector dimension is NOT the same as the vocabulary size. Some helpful links are the following: (https://stackoverflow.com/questions/38137551/what-is-word-vector-dimension, https://www.youtube.com/watch?v=kGGA1Wm8_x0&feature=youtu.be, https://medium.com/@jayeshbahire/introduction-to-word-vectors-ea1d4e4b84bf) "
   ]
  },
  {
   "cell_type": "markdown",
   "metadata": {},
   "source": [
    "For a deeper look into word vectors, an example is shown below: "
   ]
  },
  {
   "cell_type": "code",
   "execution_count": 11,
   "metadata": {},
   "outputs": [
    {
     "name": "stdout",
     "output_type": "stream",
     "text": [
      "[-0.18164062  0.16503906 -0.16601562  0.35742188 -0.09228516  0.20117188\n",
      " -0.0546875  -0.26171875 -0.17285156 -0.08056641  0.14648438 -0.24609375\n",
      "  0.18652344  0.10253906 -0.3203125   0.16699219 -0.0032196  -0.06640625\n",
      "  0.06591797 -0.109375    0.13964844 -0.05029297  0.25390625  0.0859375\n",
      "  0.02026367  0.05517578 -0.08447266  0.07324219  0.15429688 -0.13867188\n",
      " -0.25195312 -0.15136719  0.07958984  0.00848389 -0.24902344  0.05224609\n",
      "  0.04394531 -0.19726562 -0.2109375   0.01477051 -0.23632812 -0.14355469\n",
      "  0.17773438  0.26757812 -0.08789062 -0.07910156 -0.16113281  0.23632812\n",
      " -0.07177734  0.08837891]\n"
     ]
    },
    {
     "data": {
      "text/plain": [
       "(300,)"
      ]
     },
     "execution_count": 11,
     "metadata": {},
     "output_type": "execute_result"
    }
   ],
   "source": [
    "food_word_vector = model['food']\n",
    "print(food_word_vector[:50])\n",
    "food_word_vector.shape"
   ]
  },
  {
   "cell_type": "markdown",
   "metadata": {},
   "source": [
    "Next, we need to create a process to vectorize all the words for each title in our title list. We know that word2vec can only \"vectorize\" words that show up in the Google News vocabulary, so we need to ensure that we're only looking at words in that vocab list to prevent errors."
   ]
  },
  {
   "cell_type": "code",
   "execution_count": 12,
   "metadata": {},
   "outputs": [],
   "source": [
    "#limit vector list to those in Google News vocabulary list \n",
    "limited_vlist = [[model[word] for word in title \n",
    "                  if word in model.vocab] for title in titles_nostopwords]\n",
    "#limited_vlist[:1]"
   ]
  },
  {
   "cell_type": "markdown",
   "metadata": {},
   "source": [
    "We need to be able to match these vectors to the words they represent, so we need to create a list of words that correspond to these given filtered vectors."
   ]
  },
  {
   "cell_type": "code",
   "execution_count": 13,
   "metadata": {},
   "outputs": [
    {
     "data": {
      "text/plain": [
       "[['teach'],\n",
       " ['long', 'boarding', 'lessons'],\n",
       " ['personal', 'trainer'],\n",
       " ['final', 'cut', 'pro', 'lesson'],\n",
       " ['resume', 'building'],\n",
       " ['motivational', 'pep', 'talk'],\n",
       " ['resume', 'cover', 'letter'],\n",
       " ['bracelet'],\n",
       " ['video', 'production'],\n",
       " ['consulting', 'cases']]"
      ]
     },
     "execution_count": 13,
     "metadata": {},
     "output_type": "execute_result"
    }
   ],
   "source": [
    "filtered_word_list = [[word for word in title if word in model.vocab] for title in titles_nostopwords]\n",
    "filtered_word_list[:10]"
   ]
  },
  {
   "cell_type": "markdown",
   "metadata": {},
   "source": [
    "#### (3) Word Averagings"
   ]
  },
  {
   "cell_type": "markdown",
   "metadata": {},
   "source": [
    "However, notice that we still have a list of lists. We want to have each **Title** be represented as a single vector that describes the sentiment of the entry. To do this, we will take the average of the word vectors in each title list, and use that \"average vector\" as the final vector to define a title. For helpful resources that discuss why and how this is a valid method of measuring similarites, here are a couple of links:\n",
    "- https://stackoverflow.com/questions/46889727/word2vec-what-is-best-add-concatenate-or-average-word-vectors\n",
    "- https://www.researchgate.net/post/What_is_the_best_way_to_measure_text_similarities_based_on_word2vec_word_embeddings\n",
    "- https://www.quora.com/Is-the-average-of-vectors-in-word2vec-valid\n",
    "- https://lirias.kuleuven.be/bitstream/123456789/500032/3/SIGIR2015TalkVulicMoensSlides.pdf\n",
    "\n",
    "*note to self: look for more accessible papers about this topic!\n",
    "\n"
   ]
  },
  {
   "cell_type": "markdown",
   "metadata": {},
   "source": [
    "To take the average \"sentiment\" of each title vector, we need to apply a few concepts from linear algebra. First, we need to do an element-wise addition of the word vectors that comprise a title. This results in a vector, which we can then normalize. We want to do this for all of the titles in our list called **filtered_word_list**.\n",
    "\n",
    "Element-wise addition simply means taking the sum of each corresponding element of a vector. For more information on element-wise operations, here is a good resource: http://www.glue.umd.edu/afs/glue.umd.edu/system/info/olh/Numerical/Matlab_Matrix_Manipulation_Software/Matrix_Vector_Operations/elementwise\n",
    "\n",
    "There are two popular ways to do element-wise addition in Python. \n",
    "\n",
    "The first one is by using the map (https://docs.python.org/2/library/functions.html#map) command with the add (https://docs.python.org/2/library/operator.html#operator.add) operator.\n",
    "\n",
    "The second method can be done by \"zipping\" (https://docs.python.org/2/library/functions.html#zip) using a list comprehension. \n",
    "\n",
    "Because we have a list of words in titles of different lengths (and also because, as a noob, the first method makes more programmatic and mathematical sense to me) I'll use the first method. \n",
    "\n"
   ]
  },
  {
   "cell_type": "code",
   "execution_count": 14,
   "metadata": {},
   "outputs": [],
   "source": [
    "#list_titles = list(map(add, \n",
    "#                       [[[model[word]] for word in title] for title in filtered_word_list], \n",
    "#                       [[[model[word]] for word in title] for title in filtered_word_list]))\n"
   ]
  },
  {
   "cell_type": "code",
   "execution_count": 15,
   "metadata": {},
   "outputs": [],
   "source": [
    "#iteration 1 of dictionary of title vectors\n",
    "dict_of_title_vecs = {}\n",
    "for title in filtered_word_list: \n",
    "    sum_vec = np.zeros(300)\n",
    "    for word in title: \n",
    "        sum_vec += model[word]\n",
    "    dict_of_title_vecs[\" \".join(title)] = sum_vec\n"
   ]
  },
  {
   "cell_type": "markdown",
   "metadata": {},
   "source": [
    "Another way to do this, that is more intuitive, is through loops. We initialized a dictionary for the title vectors. Then, for each title in our **filtered_word_list**, we took the word vector for each word it contained. Note that we then added this word vector into a numpy 300-D array initialized with zeroes, repeating this loop for each word in the title. Then, we mapped **dict_of_title_vecs** to the list of vector summations for each title. Some links that helped me with this part include:\n",
    "- https://stackoverflow.com/questions/43629270/how-to-get-single-value-from-dict-with-single-entry\n",
    "- https://www.programiz.com/python-programming/methods/dictionary/items\n",
    "- https://www.programiz.com/python-programming/methods/string/join\n",
    "- https://stackoverflow.com/questions/12218796/python-slice-first-and-last-element-in-list\n",
    "- https://docs.scipy.org/doc/numpy/reference/generated/numpy.zeros.html\n",
    "- https://stackoverflow.com/questions/53301916/python-gensim-what-is-the-meaning-of-syn0-and-syn0norm\n",
    "- for lambda functions which I didn't use but read about http://book.pythontips.com/en/latest/lambdas.html\n",
    "- reduce was another function that could work https://www.geeksforgeeks.org/reduce-in-python/\n",
    "- http://book.pythontips.com/en/latest/map_filter.html\n",
    "- https://stackoverflow.com/questions/845112/concise-vector-adding-in-python\n",
    "- python dictionary to list https://stackoverflow.com/questions/1679384/converting-python-dictionary-to-list\n",
    "- gensim stuff https://radimrehurek.com/gensim/models/keyedvectors.html\n",
    "- mapping lists to dict https://stackoverflow.com/questions/15834244/how-to-map-multiple-lists-to-one-dictionary \n",
    "- zipping and lambda https://www.oreilly.com/library/view/python-cookbook/0596001673/ch01s15.html\n",
    "- elementwise addition https://stackoverflow.com/questions/18713321/element-wise-addition-of-2-lists\n",
    "\n"
   ]
  },
  {
   "cell_type": "code",
   "execution_count": 16,
   "metadata": {},
   "outputs": [],
   "source": [
    "#dict_of_title_vecs.items()\n",
    "#commenting this part out but this is just a sanity check. \n",
    "#need to find out how to print only the first entry in this "
   ]
  },
  {
   "cell_type": "markdown",
   "metadata": {},
   "source": [
    "Now that we have the dictionary of title summary/sentiment vectors, we can further analyze how these look, per title. To do this, we can turn the dictionary into a dataframe, then look at the first few rows and all the columns, to ensure that it's a 300-D vector mapped onto the right titles. We'll use the from_dict function in pandas, which constructs a dataframe from a dictionary or array (https://pandas.pydata.org/pandas-docs/stable/reference/api/pandas.DataFrame.from_dict.html). Since they title keys are located on the rows of the dictionary, we want to use orient=index."
   ]
  },
  {
   "cell_type": "code",
   "execution_count": 17,
   "metadata": {},
   "outputs": [
    {
     "data": {
      "text/html": [
       "<div>\n",
       "<style scoped>\n",
       "    .dataframe tbody tr th:only-of-type {\n",
       "        vertical-align: middle;\n",
       "    }\n",
       "\n",
       "    .dataframe tbody tr th {\n",
       "        vertical-align: top;\n",
       "    }\n",
       "\n",
       "    .dataframe thead th {\n",
       "        text-align: right;\n",
       "    }\n",
       "</style>\n",
       "<table border=\"1\" class=\"dataframe\">\n",
       "  <thead>\n",
       "    <tr style=\"text-align: right;\">\n",
       "      <th></th>\n",
       "      <th>0</th>\n",
       "      <th>1</th>\n",
       "      <th>2</th>\n",
       "      <th>3</th>\n",
       "      <th>4</th>\n",
       "      <th>5</th>\n",
       "      <th>6</th>\n",
       "      <th>7</th>\n",
       "      <th>8</th>\n",
       "      <th>9</th>\n",
       "      <th>...</th>\n",
       "      <th>290</th>\n",
       "      <th>291</th>\n",
       "      <th>292</th>\n",
       "      <th>293</th>\n",
       "      <th>294</th>\n",
       "      <th>295</th>\n",
       "      <th>296</th>\n",
       "      <th>297</th>\n",
       "      <th>298</th>\n",
       "      <th>299</th>\n",
       "    </tr>\n",
       "  </thead>\n",
       "  <tbody>\n",
       "    <tr>\n",
       "      <th>teach</th>\n",
       "      <td>0.118652</td>\n",
       "      <td>-0.038330</td>\n",
       "      <td>0.217773</td>\n",
       "      <td>0.079102</td>\n",
       "      <td>0.117676</td>\n",
       "      <td>0.125000</td>\n",
       "      <td>0.245117</td>\n",
       "      <td>-0.133789</td>\n",
       "      <td>-0.172852</td>\n",
       "      <td>-0.192383</td>\n",
       "      <td>...</td>\n",
       "      <td>-0.116699</td>\n",
       "      <td>0.136719</td>\n",
       "      <td>-0.168945</td>\n",
       "      <td>-0.139648</td>\n",
       "      <td>-0.224609</td>\n",
       "      <td>-0.082031</td>\n",
       "      <td>-0.050049</td>\n",
       "      <td>-0.164062</td>\n",
       "      <td>0.181641</td>\n",
       "      <td>0.100586</td>\n",
       "    </tr>\n",
       "    <tr>\n",
       "      <th>long boarding lessons</th>\n",
       "      <td>0.009399</td>\n",
       "      <td>0.378906</td>\n",
       "      <td>-0.013672</td>\n",
       "      <td>0.341309</td>\n",
       "      <td>0.233643</td>\n",
       "      <td>0.018066</td>\n",
       "      <td>-0.333740</td>\n",
       "      <td>-0.447388</td>\n",
       "      <td>0.217285</td>\n",
       "      <td>-0.041138</td>\n",
       "      <td>...</td>\n",
       "      <td>-0.472168</td>\n",
       "      <td>0.211426</td>\n",
       "      <td>-0.038818</td>\n",
       "      <td>-0.209473</td>\n",
       "      <td>-0.239258</td>\n",
       "      <td>-0.170044</td>\n",
       "      <td>-0.173584</td>\n",
       "      <td>0.197266</td>\n",
       "      <td>0.064430</td>\n",
       "      <td>0.107910</td>\n",
       "    </tr>\n",
       "    <tr>\n",
       "      <th>personal trainer</th>\n",
       "      <td>0.136475</td>\n",
       "      <td>-0.069214</td>\n",
       "      <td>0.026367</td>\n",
       "      <td>-0.101074</td>\n",
       "      <td>-0.054871</td>\n",
       "      <td>0.460449</td>\n",
       "      <td>-0.030273</td>\n",
       "      <td>-0.069855</td>\n",
       "      <td>0.230713</td>\n",
       "      <td>-0.372070</td>\n",
       "      <td>...</td>\n",
       "      <td>-0.221680</td>\n",
       "      <td>0.198730</td>\n",
       "      <td>-0.047852</td>\n",
       "      <td>-0.267578</td>\n",
       "      <td>0.019531</td>\n",
       "      <td>-0.581055</td>\n",
       "      <td>0.126953</td>\n",
       "      <td>0.019531</td>\n",
       "      <td>-0.398438</td>\n",
       "      <td>-0.274902</td>\n",
       "    </tr>\n",
       "    <tr>\n",
       "      <th>final cut pro lesson</th>\n",
       "      <td>0.451172</td>\n",
       "      <td>0.079025</td>\n",
       "      <td>0.527802</td>\n",
       "      <td>0.066528</td>\n",
       "      <td>0.170898</td>\n",
       "      <td>-0.030457</td>\n",
       "      <td>-0.227051</td>\n",
       "      <td>-0.575928</td>\n",
       "      <td>0.769531</td>\n",
       "      <td>0.284668</td>\n",
       "      <td>...</td>\n",
       "      <td>-0.341919</td>\n",
       "      <td>-0.378296</td>\n",
       "      <td>-0.215027</td>\n",
       "      <td>-0.280518</td>\n",
       "      <td>-0.734863</td>\n",
       "      <td>-0.620117</td>\n",
       "      <td>-0.326660</td>\n",
       "      <td>-0.097412</td>\n",
       "      <td>-0.050659</td>\n",
       "      <td>0.002930</td>\n",
       "    </tr>\n",
       "    <tr>\n",
       "      <th>resume building</th>\n",
       "      <td>-0.141602</td>\n",
       "      <td>0.217041</td>\n",
       "      <td>0.081909</td>\n",
       "      <td>0.041260</td>\n",
       "      <td>0.114502</td>\n",
       "      <td>-0.078125</td>\n",
       "      <td>0.099121</td>\n",
       "      <td>-0.161133</td>\n",
       "      <td>0.487305</td>\n",
       "      <td>-0.265198</td>\n",
       "      <td>...</td>\n",
       "      <td>-0.261719</td>\n",
       "      <td>0.272949</td>\n",
       "      <td>-0.304688</td>\n",
       "      <td>0.092529</td>\n",
       "      <td>-0.033203</td>\n",
       "      <td>-0.116943</td>\n",
       "      <td>0.310547</td>\n",
       "      <td>-0.130676</td>\n",
       "      <td>0.018555</td>\n",
       "      <td>-0.068970</td>\n",
       "    </tr>\n",
       "  </tbody>\n",
       "</table>\n",
       "<p>5 rows × 300 columns</p>\n",
       "</div>"
      ],
      "text/plain": [
       "                            0         1         2         3         4    \\\n",
       "teach                  0.118652 -0.038330  0.217773  0.079102  0.117676   \n",
       "long boarding lessons  0.009399  0.378906 -0.013672  0.341309  0.233643   \n",
       "personal trainer       0.136475 -0.069214  0.026367 -0.101074 -0.054871   \n",
       "final cut pro lesson   0.451172  0.079025  0.527802  0.066528  0.170898   \n",
       "resume building       -0.141602  0.217041  0.081909  0.041260  0.114502   \n",
       "\n",
       "                            5         6         7         8         9    \\\n",
       "teach                  0.125000  0.245117 -0.133789 -0.172852 -0.192383   \n",
       "long boarding lessons  0.018066 -0.333740 -0.447388  0.217285 -0.041138   \n",
       "personal trainer       0.460449 -0.030273 -0.069855  0.230713 -0.372070   \n",
       "final cut pro lesson  -0.030457 -0.227051 -0.575928  0.769531  0.284668   \n",
       "resume building       -0.078125  0.099121 -0.161133  0.487305 -0.265198   \n",
       "\n",
       "                         ...          290       291       292       293  \\\n",
       "teach                    ...    -0.116699  0.136719 -0.168945 -0.139648   \n",
       "long boarding lessons    ...    -0.472168  0.211426 -0.038818 -0.209473   \n",
       "personal trainer         ...    -0.221680  0.198730 -0.047852 -0.267578   \n",
       "final cut pro lesson     ...    -0.341919 -0.378296 -0.215027 -0.280518   \n",
       "resume building          ...    -0.261719  0.272949 -0.304688  0.092529   \n",
       "\n",
       "                            294       295       296       297       298  \\\n",
       "teach                 -0.224609 -0.082031 -0.050049 -0.164062  0.181641   \n",
       "long boarding lessons -0.239258 -0.170044 -0.173584  0.197266  0.064430   \n",
       "personal trainer       0.019531 -0.581055  0.126953  0.019531 -0.398438   \n",
       "final cut pro lesson  -0.734863 -0.620117 -0.326660 -0.097412 -0.050659   \n",
       "resume building       -0.033203 -0.116943  0.310547 -0.130676  0.018555   \n",
       "\n",
       "                            299  \n",
       "teach                  0.100586  \n",
       "long boarding lessons  0.107910  \n",
       "personal trainer      -0.274902  \n",
       "final cut pro lesson   0.002930  \n",
       "resume building       -0.068970  \n",
       "\n",
       "[5 rows x 300 columns]"
      ]
     },
     "execution_count": 17,
     "metadata": {},
     "output_type": "execute_result"
    }
   ],
   "source": [
    "word_vec_master = pd.DataFrame.from_dict(dict_of_title_vecs, orient='index')\n",
    "word_vec_master.head()"
   ]
  },
  {
   "cell_type": "markdown",
   "metadata": {},
   "source": [
    "After getting the elementwise summation of our word vectors, we're still not done--we still need to get the mean of those words, before generating a final \"title sentiment\" vector that we can use in the recommender system. A useful function for normalizing or sclaing input vectors is through skleanrn's normalize(). https://scikit-learn.org/stable/modules/generated/sklearn.preprocessing.normalize.html \n",
    "\n",
    "It is important to normalize our title vectors because later on, we plan to use the dot-product, which is a quadratic form that will eventually quantify the similarity of our Title and Google News category pairs. \"A norm is a function that takes a vector as an input and returns a scalar value that can be interpreted as the \"size\", \"length\" or \"magnitude\" of that vector.\" For more information on normalization, I used these documents: \n",
    "- https://scikit-learn.org/stable/modules/preprocessing.html#scaling-features-to-a-range.\n",
    "- https://stackoverflow.com/questions/32141856/is-norm-equivalent-to-euclidean-distance\n",
    "- Norm and relation to dot product http://www.oxfordmathcenter.com/drupal7/node/168\n",
    "\n",
    "Note that we needed to reshape our array using array.reshape(-1,1) because normalize() usually expects a 2D array, meanwhile ours was only a 1D array. (It was of the size (300,1) since we added Eij elements for the word vectors in each title.) Also note that we are using and L2 norm in this case (which is the Euclidean Norm). This is a single vector that represents that Euclidian (meaning in Euclidian space) distance between that vector point to the origin. The L2 norm of differenc between 2 vectors then is equivalent to the Euclidian distance between those 2 points--which can then tell us how similar words are. Helpful links for this process are below: \n",
    "- https://scikit-learn.org/stable/modules/generated/sklearn.preprocessing.normalize.html\n",
    "- http://kawahara.ca/how-to-normalize-vectors-to-unit-norm-in-python/\n",
    "- https://docs.scipy.org/doc/numpy-1.13.0/reference/generated/numpy.linalg.norm.html\n",
    "- https://pandas.pydata.org/pandas-docs/stable/reference/api/pandas.DataFrame.from_dict.html\n",
    "- In Python https://stackoverflow.com/questions/21030391/how-to-normalize-an-array-in-numpy\n",
    "- For more conceptual vector magniture and norms https://www.khanacademy.org/computing/computer-programming/programming-natural-simulations/programming-vectors/a/vector-magnitude-normalization \n",
    "- https://stackoverflow.com/questions/26414913/normalize-columns-of-pandas-data-frame\n",
    "- https://scikit-learn.org/stable/modules/preprocessing.html#scaling-features-to-a-range\n",
    "- https://stackoverflow.com/questions/49296660/vectorized-dictionary-in-python\n",
    "- https://stackoverflow.com/questions/16417916/normalizing-dictionary-values\n",
    "- https://docs.scipy.org/doc/numpy/reference/generated/numpy.linalg.norm.html\n",
    "- https://stackoverflow.com/questions/32141856/is-norm-equivalent-to-euclidean-distance\n",
    "- http://www.oxfordmathcenter.com/drupal7/node/168"
   ]
  },
  {
   "cell_type": "code",
   "execution_count": 18,
   "metadata": {},
   "outputs": [],
   "source": [
    "# iteration 2 of dictionary of title vectors\n",
    "dict_of_title_vecs = {}\n",
    "for title in filtered_word_list: \n",
    "    sum_vec = np.zeros(300)\n",
    "    norm_sum_vec = np.zeros(300)\n",
    "    for word in title: \n",
    "        sum_vec += model[word]\n",
    "        norm_sum_vec += np.linalg.norm(sum_vec)\n",
    "        #norm_sum_vec = np.linalg.norm(sum_vec)\n",
    "    dict_of_title_vecs[\" \".join(title)] = norm_sum_vec\n",
    "\n",
    "#if we normalize this, do i still need to average it? should i just np.mean the whole thing?"
   ]
  },
  {
   "cell_type": "code",
   "execution_count": 19,
   "metadata": {},
   "outputs": [
    {
     "name": "stdout",
     "output_type": "stream",
     "text": [
      "<class 'pandas.core.frame.DataFrame'>\n",
      "Index: 671 entries, teach to wholesome memes\n",
      "Columns: 300 entries, 0 to 299\n",
      "dtypes: float64(300)\n",
      "memory usage: 1.5+ MB\n",
      "None\n"
     ]
    },
    {
     "data": {
      "text/html": [
       "<div>\n",
       "<style scoped>\n",
       "    .dataframe tbody tr th:only-of-type {\n",
       "        vertical-align: middle;\n",
       "    }\n",
       "\n",
       "    .dataframe tbody tr th {\n",
       "        vertical-align: top;\n",
       "    }\n",
       "\n",
       "    .dataframe thead th {\n",
       "        text-align: right;\n",
       "    }\n",
       "</style>\n",
       "<table border=\"1\" class=\"dataframe\">\n",
       "  <thead>\n",
       "    <tr style=\"text-align: right;\">\n",
       "      <th></th>\n",
       "      <th>0</th>\n",
       "      <th>1</th>\n",
       "      <th>2</th>\n",
       "      <th>3</th>\n",
       "      <th>4</th>\n",
       "      <th>5</th>\n",
       "      <th>6</th>\n",
       "      <th>7</th>\n",
       "      <th>8</th>\n",
       "      <th>9</th>\n",
       "      <th>...</th>\n",
       "      <th>290</th>\n",
       "      <th>291</th>\n",
       "      <th>292</th>\n",
       "      <th>293</th>\n",
       "      <th>294</th>\n",
       "      <th>295</th>\n",
       "      <th>296</th>\n",
       "      <th>297</th>\n",
       "      <th>298</th>\n",
       "      <th>299</th>\n",
       "    </tr>\n",
       "  </thead>\n",
       "  <tbody>\n",
       "    <tr>\n",
       "      <th>teach</th>\n",
       "      <td>2.801288</td>\n",
       "      <td>2.801288</td>\n",
       "      <td>2.801288</td>\n",
       "      <td>2.801288</td>\n",
       "      <td>2.801288</td>\n",
       "      <td>2.801288</td>\n",
       "      <td>2.801288</td>\n",
       "      <td>2.801288</td>\n",
       "      <td>2.801288</td>\n",
       "      <td>2.801288</td>\n",
       "      <td>...</td>\n",
       "      <td>2.801288</td>\n",
       "      <td>2.801288</td>\n",
       "      <td>2.801288</td>\n",
       "      <td>2.801288</td>\n",
       "      <td>2.801288</td>\n",
       "      <td>2.801288</td>\n",
       "      <td>2.801288</td>\n",
       "      <td>2.801288</td>\n",
       "      <td>2.801288</td>\n",
       "      <td>2.801288</td>\n",
       "    </tr>\n",
       "    <tr>\n",
       "      <th>long boarding lessons</th>\n",
       "      <td>11.420075</td>\n",
       "      <td>11.420075</td>\n",
       "      <td>11.420075</td>\n",
       "      <td>11.420075</td>\n",
       "      <td>11.420075</td>\n",
       "      <td>11.420075</td>\n",
       "      <td>11.420075</td>\n",
       "      <td>11.420075</td>\n",
       "      <td>11.420075</td>\n",
       "      <td>11.420075</td>\n",
       "      <td>...</td>\n",
       "      <td>11.420075</td>\n",
       "      <td>11.420075</td>\n",
       "      <td>11.420075</td>\n",
       "      <td>11.420075</td>\n",
       "      <td>11.420075</td>\n",
       "      <td>11.420075</td>\n",
       "      <td>11.420075</td>\n",
       "      <td>11.420075</td>\n",
       "      <td>11.420075</td>\n",
       "      <td>11.420075</td>\n",
       "    </tr>\n",
       "    <tr>\n",
       "      <th>personal trainer</th>\n",
       "      <td>7.054612</td>\n",
       "      <td>7.054612</td>\n",
       "      <td>7.054612</td>\n",
       "      <td>7.054612</td>\n",
       "      <td>7.054612</td>\n",
       "      <td>7.054612</td>\n",
       "      <td>7.054612</td>\n",
       "      <td>7.054612</td>\n",
       "      <td>7.054612</td>\n",
       "      <td>7.054612</td>\n",
       "      <td>...</td>\n",
       "      <td>7.054612</td>\n",
       "      <td>7.054612</td>\n",
       "      <td>7.054612</td>\n",
       "      <td>7.054612</td>\n",
       "      <td>7.054612</td>\n",
       "      <td>7.054612</td>\n",
       "      <td>7.054612</td>\n",
       "      <td>7.054612</td>\n",
       "      <td>7.054612</td>\n",
       "      <td>7.054612</td>\n",
       "    </tr>\n",
       "    <tr>\n",
       "      <th>final cut pro lesson</th>\n",
       "      <td>16.571879</td>\n",
       "      <td>16.571879</td>\n",
       "      <td>16.571879</td>\n",
       "      <td>16.571879</td>\n",
       "      <td>16.571879</td>\n",
       "      <td>16.571879</td>\n",
       "      <td>16.571879</td>\n",
       "      <td>16.571879</td>\n",
       "      <td>16.571879</td>\n",
       "      <td>16.571879</td>\n",
       "      <td>...</td>\n",
       "      <td>16.571879</td>\n",
       "      <td>16.571879</td>\n",
       "      <td>16.571879</td>\n",
       "      <td>16.571879</td>\n",
       "      <td>16.571879</td>\n",
       "      <td>16.571879</td>\n",
       "      <td>16.571879</td>\n",
       "      <td>16.571879</td>\n",
       "      <td>16.571879</td>\n",
       "      <td>16.571879</td>\n",
       "    </tr>\n",
       "    <tr>\n",
       "      <th>resume building</th>\n",
       "      <td>7.014828</td>\n",
       "      <td>7.014828</td>\n",
       "      <td>7.014828</td>\n",
       "      <td>7.014828</td>\n",
       "      <td>7.014828</td>\n",
       "      <td>7.014828</td>\n",
       "      <td>7.014828</td>\n",
       "      <td>7.014828</td>\n",
       "      <td>7.014828</td>\n",
       "      <td>7.014828</td>\n",
       "      <td>...</td>\n",
       "      <td>7.014828</td>\n",
       "      <td>7.014828</td>\n",
       "      <td>7.014828</td>\n",
       "      <td>7.014828</td>\n",
       "      <td>7.014828</td>\n",
       "      <td>7.014828</td>\n",
       "      <td>7.014828</td>\n",
       "      <td>7.014828</td>\n",
       "      <td>7.014828</td>\n",
       "      <td>7.014828</td>\n",
       "    </tr>\n",
       "  </tbody>\n",
       "</table>\n",
       "<p>5 rows × 300 columns</p>\n",
       "</div>"
      ],
      "text/plain": [
       "                             0          1          2          3          4    \\\n",
       "teach                   2.801288   2.801288   2.801288   2.801288   2.801288   \n",
       "long boarding lessons  11.420075  11.420075  11.420075  11.420075  11.420075   \n",
       "personal trainer        7.054612   7.054612   7.054612   7.054612   7.054612   \n",
       "final cut pro lesson   16.571879  16.571879  16.571879  16.571879  16.571879   \n",
       "resume building         7.014828   7.014828   7.014828   7.014828   7.014828   \n",
       "\n",
       "                             5          6          7          8          9    \\\n",
       "teach                   2.801288   2.801288   2.801288   2.801288   2.801288   \n",
       "long boarding lessons  11.420075  11.420075  11.420075  11.420075  11.420075   \n",
       "personal trainer        7.054612   7.054612   7.054612   7.054612   7.054612   \n",
       "final cut pro lesson   16.571879  16.571879  16.571879  16.571879  16.571879   \n",
       "resume building         7.014828   7.014828   7.014828   7.014828   7.014828   \n",
       "\n",
       "                         ...            290        291        292        293  \\\n",
       "teach                    ...       2.801288   2.801288   2.801288   2.801288   \n",
       "long boarding lessons    ...      11.420075  11.420075  11.420075  11.420075   \n",
       "personal trainer         ...       7.054612   7.054612   7.054612   7.054612   \n",
       "final cut pro lesson     ...      16.571879  16.571879  16.571879  16.571879   \n",
       "resume building          ...       7.014828   7.014828   7.014828   7.014828   \n",
       "\n",
       "                             294        295        296        297        298  \\\n",
       "teach                   2.801288   2.801288   2.801288   2.801288   2.801288   \n",
       "long boarding lessons  11.420075  11.420075  11.420075  11.420075  11.420075   \n",
       "personal trainer        7.054612   7.054612   7.054612   7.054612   7.054612   \n",
       "final cut pro lesson   16.571879  16.571879  16.571879  16.571879  16.571879   \n",
       "resume building         7.014828   7.014828   7.014828   7.014828   7.014828   \n",
       "\n",
       "                             299  \n",
       "teach                   2.801288  \n",
       "long boarding lessons  11.420075  \n",
       "personal trainer        7.054612  \n",
       "final cut pro lesson   16.571879  \n",
       "resume building         7.014828  \n",
       "\n",
       "[5 rows x 300 columns]"
      ]
     },
     "execution_count": 19,
     "metadata": {},
     "output_type": "execute_result"
    }
   ],
   "source": [
    "word_vec_master = pd.DataFrame.from_dict(dict_of_title_vecs, orient='index')\n",
    "print(word_vec_master.info())\n",
    "word_vec_master.head()\n",
    "#not sure if we want the norm to be between -1 and 1? or if that's the similarity score we want\n",
    "\n"
   ]
  },
  {
   "cell_type": "code",
   "execution_count": 25,
   "metadata": {},
   "outputs": [],
   "source": [
    "# iteration 3 of dictionary of title vectors\n",
    "dict_of_title_vecs = {}\n",
    "for title in filtered_word_list: \n",
    "    sum_vec = np.zeros(300)\n",
    "    norm_sum_vec = np.zeros(300)\n",
    "    for word in title: \n",
    "        sum_vec += model[word]\n",
    "        norm_sum_vec += np.linalg.norm(sum_vec)\n",
    "        #norm_sum_vec = np.linalg.norm(sum_vec)\n",
    "    dict_of_title_vecs[\" \".join(title)] = np.mean(norm_sum_vec, axis=0)\n",
    "\n",
    "#if we normalize this, do i still need to average it? should i just np.mean the whole thing?"
   ]
  },
  {
   "cell_type": "code",
   "execution_count": 26,
   "metadata": {},
   "outputs": [
    {
     "name": "stdout",
     "output_type": "stream",
     "text": [
      "<class 'pandas.core.frame.DataFrame'>\n",
      "Index: 671 entries, teach to wholesome memes\n",
      "Data columns (total 1 columns):\n",
      "0    671 non-null float64\n",
      "dtypes: float64(1)\n",
      "memory usage: 10.5+ KB\n",
      "None\n"
     ]
    },
    {
     "data": {
      "text/html": [
       "<div>\n",
       "<style scoped>\n",
       "    .dataframe tbody tr th:only-of-type {\n",
       "        vertical-align: middle;\n",
       "    }\n",
       "\n",
       "    .dataframe tbody tr th {\n",
       "        vertical-align: top;\n",
       "    }\n",
       "\n",
       "    .dataframe thead th {\n",
       "        text-align: right;\n",
       "    }\n",
       "</style>\n",
       "<table border=\"1\" class=\"dataframe\">\n",
       "  <thead>\n",
       "    <tr style=\"text-align: right;\">\n",
       "      <th></th>\n",
       "      <th>0</th>\n",
       "    </tr>\n",
       "  </thead>\n",
       "  <tbody>\n",
       "    <tr>\n",
       "      <th>teach</th>\n",
       "      <td>2.801288</td>\n",
       "    </tr>\n",
       "    <tr>\n",
       "      <th>long boarding lessons</th>\n",
       "      <td>11.420075</td>\n",
       "    </tr>\n",
       "    <tr>\n",
       "      <th>personal trainer</th>\n",
       "      <td>7.054612</td>\n",
       "    </tr>\n",
       "    <tr>\n",
       "      <th>final cut pro lesson</th>\n",
       "      <td>16.571879</td>\n",
       "    </tr>\n",
       "    <tr>\n",
       "      <th>resume building</th>\n",
       "      <td>7.014828</td>\n",
       "    </tr>\n",
       "  </tbody>\n",
       "</table>\n",
       "</div>"
      ],
      "text/plain": [
       "                               0\n",
       "teach                   2.801288\n",
       "long boarding lessons  11.420075\n",
       "personal trainer        7.054612\n",
       "final cut pro lesson   16.571879\n",
       "resume building         7.014828"
      ]
     },
     "execution_count": 26,
     "metadata": {},
     "output_type": "execute_result"
    }
   ],
   "source": [
    "word_vec_master = pd.DataFrame.from_dict(dict_of_title_vecs, orient='index')\n",
    "print(word_vec_master.info())\n",
    "word_vec_master.head()\n",
    "\n",
    "# is this supposed to be one column? does this make sense??? ask jeremie.. linear referesher"
   ]
  },
  {
   "cell_type": "markdown",
   "metadata": {},
   "source": [
    "Now that we have a vectorized and labeled dictionary, we want to take the columns and match the values there with the normalized values in the Google News model. This will help us see how similar a title from our dataset is, to other products/services that were found in the Google training data. \n",
    "\n",
    "#### (4) Data Visualization\n",
    "\n",
    "One way to visualize these relationships is through t-SNE, which stands for t-Distributed Stochastic Neighbor Embedding. t-SNE is a techinique used fro dimensionality reduction, and that is useful when visualizing high-dimennsional datasets. (https://lvdmaaten.github.io/tsne/) \n",
    "\n",
    "According to the scikit-learn website, t-SNE is a tool \"converts similarities between data points to joint probabilities and tries to minimize the Kullback-Leibler divergence between the joint probabilities of the low-dimensional embedding and the high-dimensional data.\" (https://scikit-learn.org/stable/modules/generated/sklearn.manifold.TSNE.html) The documentation also mentioned that it is very useful to incorporate another dimensionality reduction method (e.g. PCA for dense data or TruncatedSVD for sparse data) to reduce the number of dimensions to a reasonable amount (e.g. 50) before using t-SNE if the number of features in our dataset is very high. Thus, earlier, to reduce features we used word embeddings and word averagings.\n",
    "\n",
    "**should i do TSNE"
   ]
  },
  {
   "cell_type": "code",
   "execution_count": 64,
   "metadata": {},
   "outputs": [],
   "source": [
    "#testing out what shes doing here... recheck with jeremie\n",
    "from sklearn.manifold import TSNE\n",
    "\n",
    "#model initialization\n",
    "tsne = TSNE(n_components = 2, init = 'random', random_state = 10, perplexity = 50)"
   ]
  },
  {
   "cell_type": "markdown",
   "metadata": {},
   "source": [
    "Here we are using TSNE with n_components = 2, meaning that we have 2 dimensions of embedded space. The initialization of the embedding that we're using is 'random', which, according to this article (https://arxiv.org/abs/1711.09160), does not really have any significant difference in the results--given that \"the variance is kept reasonably low.\" The perplexity that we used here is 50, which mean that this is the number of nearest neighbors used in multi-fold learning algorithms. We went with 50 because the official documentation suggested a value between 5 and 50 with larger datasets requiring larger perplexities."
   ]
  },
  {
   "cell_type": "code",
   "execution_count": 72,
   "metadata": {},
   "outputs": [
    {
     "data": {
      "text/plain": [
       "(671, 2)"
      ]
     },
     "execution_count": 72,
     "metadata": {},
     "output_type": "execute_result"
    }
   ],
   "source": [
    "# trasforming word vectors\n",
    "tsne_df = tsne.fit_transform(word_vec_master)\n",
    "#don't reallyy need to shorten the rows since we only have 671\n",
    "tsne_df.shape"
   ]
  },
  {
   "cell_type": "markdown",
   "metadata": {},
   "source": [
    "Next, we want to transform the word vectos using t-SNE. We use the fit_transform function to fit our *word_vec_master* dataset into an embedded space and return that transformed output. We see that we have a 2-dimensional array with 671 entries.\n",
    "\n",
    "Some helpful documentation that I used were the following:\n",
    "- https://stackoverflow.com/questions/50198409/how-to-apply-t-sne-on-word2vec-model\n",
    "- https://medium.com/@luckylwk/visualising-high-dimensional-datasets-using-pca-and-t-sne-in-python-8ef87e7915b t-SNE work on the MNIST dataset\n",
    "- https://www.programcreek.com/python/example/101756/sklearn.manifold.TSNE\n",
    "- https://colab.research.google.com/github/GokuMohandas/practicalAI/blob/master/notebooks/12_Embeddings.ipynb awesome content about word embeddings from one of my mentors \n",
    "- https://towardsdatascience.com/using-word2vec-to-analyze-news-headlines-and-predict-article-success-cdeda5f14751 a great Medium post by another SharpestMinds mentee\n",
    "- https://lvdmaaten.github.io/tsne/ \n",
    "- https://docs.scipy.org/doc/numpy-1.13.0/reference/generated/numpy.array.html Arrays and Np.shape\n",
    "- https://docs.scipy.org/doc/numpy/reference/generated/numpy.ndarray.shape.html\n"
   ]
  },
  {
   "cell_type": "code",
   "execution_count": 73,
   "metadata": {},
   "outputs": [
    {
     "data": {
      "image/png": "[encoded data removed]",
      "text/plain": [
       "<Figure size 842.4x595.44 with 1 Axes>"
      ]
     },
     "metadata": {},
     "output_type": "display_data"
    }
   ],
   "source": [
    "#using seaborn to visualize sentence relationships\n",
    "sns.set()\n",
    "\n",
    "fig, ax = plt.subplots(figsize = (11.7, 8.27))\n",
    "scatter1 = sns.scatterplot(tsne_df[:, 0], tsne_df[:, 1], alpha = 0.5)\n",
    "# not really understqnding what's happening here \n",
    "#are those outliers at the bottom? need to go into discussion w jeremie about this interpretation"
   ]
  },
  {
   "cell_type": "markdown",
   "metadata": {},
   "source": [
    "Afterwards, we want to visualize the relationship (both linear and non-linear) between our sentence/title entries. To do this, we'll use a seaborn scatterplot. (https://seaborn.pydata.org/generated/seaborn.scatterplot.html) \n",
    "\n",
    "Because we have 2 resulting dimensions, we want to visualize them by creating a scatterplot of their relationship. Note that these dimensions are the title from our dataset (could be one word or one sentence) and their similarity score to the data in the Google News corpus. \n",
    "\n",
    "*check with jeremie if this is right *"
   ]
  },
  {
   "cell_type": "code",
   "execution_count": 55,
   "metadata": {},
   "outputs": [],
   "source": [
    "#now we want to add labels to this, so use the package adjustText\n",
    "from adjustText import adjust_text"
   ]
  },
  {
   "cell_type": "code",
   "execution_count": 56,
   "metadata": {},
   "outputs": [],
   "source": [
    "#initialize the text box then create a loop that prints the 10th title\n",
    "\n",
    "sentence_titles = [] \n",
    "titles_for_plotting = list(np.arange(0, 700, 50))\n",
    "#we are plotting the 50th title in the first 700 titles"
   ]
  },
  {
   "cell_type": "code",
   "execution_count": 62,
   "metadata": {},
   "outputs": [
    {
     "ename": "TypeError",
     "evalue": "cannot concatenate object of type \"<class 'matplotlib.text.Text'>\"; only pd.Series, pd.DataFrame, and pd.Panel (deprecated) objs are valid",
     "output_type": "error",
     "traceback": [
      "\u001b[0;31m---------------------------------------------------------------------------\u001b[0m",
      "\u001b[0;31mTypeError\u001b[0m                                 Traceback (most recent call last)",
      "\u001b[0;32m<ipython-input-62-cfa6f3dfbd78>\u001b[0m in \u001b[0;36m<module>\u001b[0;34m\u001b[0m\n\u001b[1;32m      1\u001b[0m \u001b[0;31m#then we want to append each word to a list of words\u001b[0m\u001b[0;34m\u001b[0m\u001b[0;34m\u001b[0m\u001b[0;34m\u001b[0m\u001b[0m\n\u001b[1;32m      2\u001b[0m \u001b[0;32mfor\u001b[0m \u001b[0mtitle\u001b[0m \u001b[0;32min\u001b[0m \u001b[0mtitles_for_plotting\u001b[0m\u001b[0;34m:\u001b[0m\u001b[0;34m\u001b[0m\u001b[0;34m\u001b[0m\u001b[0m\n\u001b[0;32m----> 3\u001b[0;31m     \u001b[0mword_vec_master\u001b[0m\u001b[0;34m.\u001b[0m\u001b[0mappend\u001b[0m\u001b[0;34m(\u001b[0m\u001b[0mplt\u001b[0m\u001b[0;34m.\u001b[0m\u001b[0mtext\u001b[0m\u001b[0;34m(\u001b[0m\u001b[0mtsne_df\u001b[0m\u001b[0;34m[\u001b[0m\u001b[0mtitle\u001b[0m\u001b[0;34m,\u001b[0m \u001b[0;36m0\u001b[0m\u001b[0;34m]\u001b[0m\u001b[0;34m,\u001b[0m \u001b[0mtsne_df\u001b[0m\u001b[0;34m[\u001b[0m\u001b[0mtitle\u001b[0m\u001b[0;34m,\u001b[0m \u001b[0;36m1\u001b[0m\u001b[0;34m]\u001b[0m\u001b[0;34m,\u001b[0m \u001b[0mfiltered_word_list\u001b[0m\u001b[0;34m[\u001b[0m\u001b[0mtitle\u001b[0m\u001b[0;34m]\u001b[0m\u001b[0;34m,\u001b[0m \u001b[0mfontsize\u001b[0m\u001b[0;34m=\u001b[0m\u001b[0;36m14\u001b[0m\u001b[0;34m)\u001b[0m\u001b[0;34m)\u001b[0m\u001b[0;34m\u001b[0m\u001b[0;34m\u001b[0m\u001b[0m\n\u001b[0m\u001b[1;32m      4\u001b[0m \u001b[0;34m\u001b[0m\u001b[0m\n\u001b[1;32m      5\u001b[0m \u001b[0;31m# filtered_word_list[title] --> which list should i use here? i tried dict, then i tried master_vector_list\u001b[0m\u001b[0;34m\u001b[0m\u001b[0;34m\u001b[0m\u001b[0;34m\u001b[0m\u001b[0m\n",
      "\u001b[0;32m/anaconda3/lib/python3.7/site-packages/pandas/core/frame.py\u001b[0m in \u001b[0;36mappend\u001b[0;34m(self, other, ignore_index, verify_integrity, sort)\u001b[0m\n\u001b[1;32m   6209\u001b[0m         return concat(to_concat, ignore_index=ignore_index,\n\u001b[1;32m   6210\u001b[0m                       \u001b[0mverify_integrity\u001b[0m\u001b[0;34m=\u001b[0m\u001b[0mverify_integrity\u001b[0m\u001b[0;34m,\u001b[0m\u001b[0;34m\u001b[0m\u001b[0;34m\u001b[0m\u001b[0m\n\u001b[0;32m-> 6211\u001b[0;31m                       sort=sort)\n\u001b[0m\u001b[1;32m   6212\u001b[0m \u001b[0;34m\u001b[0m\u001b[0m\n\u001b[1;32m   6213\u001b[0m     def join(self, other, on=None, how='left', lsuffix='', rsuffix='',\n",
      "\u001b[0;32m/anaconda3/lib/python3.7/site-packages/pandas/core/reshape/concat.py\u001b[0m in \u001b[0;36mconcat\u001b[0;34m(objs, axis, join, join_axes, ignore_index, keys, levels, names, verify_integrity, sort, copy)\u001b[0m\n\u001b[1;32m    223\u001b[0m                        \u001b[0mkeys\u001b[0m\u001b[0;34m=\u001b[0m\u001b[0mkeys\u001b[0m\u001b[0;34m,\u001b[0m \u001b[0mlevels\u001b[0m\u001b[0;34m=\u001b[0m\u001b[0mlevels\u001b[0m\u001b[0;34m,\u001b[0m \u001b[0mnames\u001b[0m\u001b[0;34m=\u001b[0m\u001b[0mnames\u001b[0m\u001b[0;34m,\u001b[0m\u001b[0;34m\u001b[0m\u001b[0;34m\u001b[0m\u001b[0m\n\u001b[1;32m    224\u001b[0m                        \u001b[0mverify_integrity\u001b[0m\u001b[0;34m=\u001b[0m\u001b[0mverify_integrity\u001b[0m\u001b[0;34m,\u001b[0m\u001b[0;34m\u001b[0m\u001b[0;34m\u001b[0m\u001b[0m\n\u001b[0;32m--> 225\u001b[0;31m                        copy=copy, sort=sort)\n\u001b[0m\u001b[1;32m    226\u001b[0m     \u001b[0;32mreturn\u001b[0m \u001b[0mop\u001b[0m\u001b[0;34m.\u001b[0m\u001b[0mget_result\u001b[0m\u001b[0;34m(\u001b[0m\u001b[0;34m)\u001b[0m\u001b[0;34m\u001b[0m\u001b[0;34m\u001b[0m\u001b[0m\n\u001b[1;32m    227\u001b[0m \u001b[0;34m\u001b[0m\u001b[0m\n",
      "\u001b[0;32m/anaconda3/lib/python3.7/site-packages/pandas/core/reshape/concat.py\u001b[0m in \u001b[0;36m__init__\u001b[0;34m(self, objs, axis, join, join_axes, keys, levels, names, ignore_index, verify_integrity, copy, sort)\u001b[0m\n\u001b[1;32m    284\u001b[0m                        \u001b[0;34m' only pd.Series, pd.DataFrame, and pd.Panel'\u001b[0m\u001b[0;34m\u001b[0m\u001b[0;34m\u001b[0m\u001b[0m\n\u001b[1;32m    285\u001b[0m                        ' (deprecated) objs are valid'.format(type(obj)))\n\u001b[0;32m--> 286\u001b[0;31m                 \u001b[0;32mraise\u001b[0m \u001b[0mTypeError\u001b[0m\u001b[0;34m(\u001b[0m\u001b[0mmsg\u001b[0m\u001b[0;34m)\u001b[0m\u001b[0;34m\u001b[0m\u001b[0;34m\u001b[0m\u001b[0m\n\u001b[0m\u001b[1;32m    287\u001b[0m \u001b[0;34m\u001b[0m\u001b[0m\n\u001b[1;32m    288\u001b[0m             \u001b[0;31m# consolidate\u001b[0m\u001b[0;34m\u001b[0m\u001b[0;34m\u001b[0m\u001b[0;34m\u001b[0m\u001b[0m\n",
      "\u001b[0;31mTypeError\u001b[0m: cannot concatenate object of type \"<class 'matplotlib.text.Text'>\"; only pd.Series, pd.DataFrame, and pd.Panel (deprecated) objs are valid"
     ]
    },
    {
     "data": {
      "image/png": "[encoded data removed]",
      "text/plain": [
       "<Figure size 432x288 with 1 Axes>"
      ]
     },
     "metadata": {},
     "output_type": "display_data"
    }
   ],
   "source": [
    "#then we want to append each word to a list of words\n",
    "for title in titles_for_plotting: \n",
    "    word_vec_master.append(plt.text(tsne_df[title, 0], tsne_df[title, 1], filtered_word_list[title], fontsize=14))\n",
    "    \n",
    "# filtered_word_list[title] --> which list should i use here? i tried dict, then i tried master_vector_list"
   ]
  },
  {
   "cell_type": "code",
   "execution_count": null,
   "metadata": {},
   "outputs": [],
   "source": []
  },
  {
   "cell_type": "code",
   "execution_count": null,
   "metadata": {},
   "outputs": [],
   "source": []
  },
  {
   "cell_type": "code",
   "execution_count": null,
   "metadata": {},
   "outputs": [],
   "source": []
  },
  {
   "cell_type": "code",
   "execution_count": null,
   "metadata": {},
   "outputs": [],
   "source": []
  },
  {
   "cell_type": "code",
   "execution_count": null,
   "metadata": {},
   "outputs": [],
   "source": []
  },
  {
   "cell_type": "code",
   "execution_count": null,
   "metadata": {},
   "outputs": [],
   "source": []
  },
  {
   "cell_type": "code",
   "execution_count": null,
   "metadata": {},
   "outputs": [],
   "source": []
  },
  {
   "cell_type": "code",
   "execution_count": null,
   "metadata": {},
   "outputs": [],
   "source": []
  },
  {
   "cell_type": "code",
   "execution_count": null,
   "metadata": {},
   "outputs": [],
   "source": []
  },
  {
   "cell_type": "code",
   "execution_count": null,
   "metadata": {},
   "outputs": [],
   "source": []
  },
  {
   "cell_type": "code",
   "execution_count": null,
   "metadata": {},
   "outputs": [],
   "source": []
  },
  {
   "cell_type": "code",
   "execution_count": null,
   "metadata": {},
   "outputs": [],
   "source": []
  },
  {
   "cell_type": "code",
   "execution_count": null,
   "metadata": {},
   "outputs": [],
   "source": []
  },
  {
   "cell_type": "code",
   "execution_count": null,
   "metadata": {},
   "outputs": [],
   "source": []
  },
  {
   "cell_type": "code",
   "execution_count": null,
   "metadata": {},
   "outputs": [],
   "source": []
  },
  {
   "cell_type": "code",
   "execution_count": null,
   "metadata": {},
   "outputs": [],
   "source": []
  },
  {
   "cell_type": "code",
   "execution_count": null,
   "metadata": {},
   "outputs": [],
   "source": []
  },
  {
   "cell_type": "code",
   "execution_count": null,
   "metadata": {},
   "outputs": [],
   "source": []
  },
  {
   "cell_type": "code",
   "execution_count": null,
   "metadata": {},
   "outputs": [],
   "source": []
  },
  {
   "cell_type": "code",
   "execution_count": null,
   "metadata": {},
   "outputs": [],
   "source": []
  },
  {
   "cell_type": "code",
   "execution_count": null,
   "metadata": {},
   "outputs": [],
   "source": []
  },
  {
   "cell_type": "code",
   "execution_count": null,
   "metadata": {},
   "outputs": [],
   "source": []
  },
  {
   "cell_type": "code",
   "execution_count": null,
   "metadata": {},
   "outputs": [],
   "source": []
  },
  {
   "cell_type": "code",
   "execution_count": null,
   "metadata": {},
   "outputs": [],
   "source": []
  },
  {
   "cell_type": "code",
   "execution_count": null,
   "metadata": {},
   "outputs": [],
   "source": []
  },
  {
   "cell_type": "code",
   "execution_count": null,
   "metadata": {},
   "outputs": [],
   "source": []
  },
  {
   "cell_type": "markdown",
   "metadata": {},
   "source": [
    "def find_most_similar(input_doc_vec, docs_from_db_vec):\n",
    "    input_doc_vec = vectorize_document(clean)\n",
    "    docs_from_db_vec = vectorize_document(clean)\n",
    "    #would these 2 be the same now? since we only have one dataset that hasn't been split into training/testing?\n",
    "    docs_with_ranks = []\n",
    "    for db_doc_vec in docs_from_db_vec: \n",
    "        similarity = np.dot(input_doc_vec, db_doc_vec)\n",
    "        docs_with_ranks += [(similarity, docs_db_vec)] \n",
    "    return sort_by_similarity(docs_with_ranks)\n"
   ]
  },
  {
   "cell_type": "markdown",
   "metadata": {},
   "source": [
    "def process_new_document(document): \n",
    "    ```document: a raw document that the user provides```\n",
    "        cleaned_document = clean_raw_document(document)\n",
    "        vectorized_document = vectorize_document(cleaned_document)\n",
    "        docs_from_db_vec = load_from_db(filepath_to_csv_or_db)\n",
    "        save(vectorized_document, filepath_to_csv_or_db) <- might be a bit more complicated, since you’ll want to save it into a table along with the other document vectors that your users have input earlier, along with an index of some kind that lets you look the vector up\n",
    "        sorted_documents = find_most_similar(vectorized_document, docs_from_db_vec)\n",
    "\n",
    "    return sorted_documents\n"
   ]
  },
  {
   "cell_type": "code",
   "execution_count": null,
   "metadata": {},
   "outputs": [],
   "source": []
  }
 ],
 "metadata": {
  "kernelspec": {
   "display_name": "Python 3",
   "language": "python",
   "name": "python3"
  },
  "language_info": {
   "codemirror_mode": {
    "name": "ipython",
    "version": 3
   },
   "file_extension": ".py",
   "mimetype": "text/x-python",
   "name": "python",
   "nbconvert_exporter": "python",
   "pygments_lexer": "ipython3",
   "version": "3.7.1"
  }
 },
 "nbformat": 4,
 "nbformat_minor": 2
}
